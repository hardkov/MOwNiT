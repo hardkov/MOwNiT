{
 "cells": [
  {
   "cell_type": "markdown",
   "metadata": {},
   "source": [
    "# Lab5 Równania nieliniowe\n",
    "### Autor: Krzysztof Hardek"
   ]
  },
  {
   "cell_type": "code",
   "execution_count": 45,
   "metadata": {},
   "outputs": [],
   "source": [
    "from mpmath import *"
   ]
  },
  {
   "cell_type": "markdown",
   "metadata": {},
   "source": [
    "Funkcje Do testów"
   ]
  },
  {
   "cell_type": "code",
   "execution_count": 46,
   "metadata": {},
   "outputs": [],
   "source": [
    "def f1(x):\n",
    "    return mpf(cos(x)*cosh(x) - 1)\n",
    "    \n",
    "    \n",
    "def f2(x):\n",
    "    return mpf((1/x) - tan(x))\n",
    "    \n",
    "    \n",
    "def f3(x):\n",
    "    return mpf(2**(-x) + e**x + 2 * cos(x) - 6)   "
   ]
  },
  {
   "cell_type": "markdown",
   "metadata": {},
   "source": [
    "Ich pochodne"
   ]
  },
  {
   "cell_type": "code",
   "execution_count": 47,
   "metadata": {},
   "outputs": [],
   "source": [
    "def f1_d(x):\n",
    "    return cos(x) * sinh(x) - sin(x) * cosh(x)\n",
    "\n",
    "\n",
    "def f2_d(x):\n",
    "    return (-1/(x**2)) - (1/(cos(x)**2))\n",
    "\n",
    "\n",
    "def f3_d(x):\n",
    "    return -ln(2) * 2**(-x) + e**x - 2 * sin(x)"
   ]
  },
  {
   "cell_type": "markdown",
   "metadata": {},
   "source": [
    "## Zadanie 1 Metoda bisekcji\n",
    "Funkcje realizująca bisekcje oraz wypisująca rezultat"
   ]
  },
  {
   "cell_type": "code",
   "execution_count": 48,
   "metadata": {},
   "outputs": [],
   "source": [
    "def bisection(f, precision, a, b, error):\n",
    "    mp.dps = precision\n",
    "    x0 = mpf((a + b)/2)\n",
    "    i = 0\n",
    "    \n",
    "    while abs(f(x0) - 0) > error:\n",
    "        if f(a) * f(x0) < 0:\n",
    "            b = x0\n",
    "        else:\n",
    "            a = x0\n",
    "        i += 1\n",
    "        x0 = mpf((a + b)/2)\n",
    "        \n",
    "    return [x0, i]\n",
    "\n",
    "\n",
    "def print_result(f, x0, iterations):\n",
    "    print(f'funkcja {f.__name__}, miejsce zerowe: {x0}, f(x0): {f(x0)}, liczba iteracji: {iterations}')     "
   ]
  },
  {
   "cell_type": "markdown",
   "metadata": {},
   "source": [
    "Liczba iteracji potrzebnych do osiągnięcia dokładności $ 10^{-7} $ "
   ]
  },
  {
   "cell_type": "code",
   "execution_count": 49,
   "metadata": {},
   "outputs": [
    {
     "name": "stdout",
     "output_type": "stream",
     "text": [
      "funkcja f1, miejsce zerowe: 4.73004074596, f(x0): 6.33440322417e-8, liczba iteracji: 28\n",
      "funkcja f2, miejsce zerowe: 0.860333566189, f(x0): 8.45204795041e-8, liczba iteracji: 20\n",
      "funkcja f3, miejsce zerowe: 1.82938361168, f(x0): 3.99704731535e-8, liczba iteracji: 22\n"
     ]
    }
   ],
   "source": [
    "a = bisection(f1, 12, 3*pi/2, 2*pi, mpf(10)**(-7))\n",
    "print_result(f1, a[0], a[1])\n",
    "b = bisection(f2, 12, 0.0001, pi/2, mpf(10)**(-7))\n",
    "print_result(f2, b[0], b[1])\n",
    "c = bisection(f3, 12, 1, 3, mpf(10)**(-7))\n",
    "print_result(f3, c[0], c[1])"
   ]
  },
  {
   "cell_type": "markdown",
   "metadata": {},
   "source": [
    "Liczba iteracji potrzebnych do osiągnięcia dokładności $ 10^{-15} $ "
   ]
  },
  {
   "cell_type": "code",
   "execution_count": 50,
   "metadata": {},
   "outputs": [
    {
     "name": "stdout",
     "output_type": "stream",
     "text": [
      "funkcja f1, miejsce zerowe: 4.730040744862704, f(x0): -8.7690271710627599e-16, liczba iteracji: 53\n",
      "funkcja f2, miejsce zerowe: 0.8603335890193797, f(x0): 2.3765711620882257e-16, liczba iteracji: 51\n",
      "funkcja f3, miejsce zerowe: 1.829383601933849, f(x0): 6.2450045135165055e-16, liczba iteracji: 51\n"
     ]
    }
   ],
   "source": [
    "a = bisection(f1, 17, 3*pi/2, 2*pi, mpf(10)**(-15))\n",
    "print_result(f1, a[0], a[1])\n",
    "b = bisection(f2, 17, 0.0001, pi/2, mpf(10)**(-15))\n",
    "print_result(f2, b[0], b[1])\n",
    "c = bisection(f3, 17, 1, 3, mpf(10)**(-15))\n",
    "print_result(f3, c[0], c[1])"
   ]
  },
  {
   "cell_type": "markdown",
   "metadata": {},
   "source": [
    "Liczba iteracji potrzebnych do osiągnięcia dokładności $ 10^{-33} $"
   ]
  },
  {
   "cell_type": "code",
   "execution_count": 51,
   "metadata": {},
   "outputs": [
    {
     "name": "stdout",
     "output_type": "stream",
     "text": [
      "funkcja f1, miejsce zerowe: 4.7300407448627040260240481008338848, f(x0): -8.5538372920636217379869020340588373e-34, liczba iteracji: 110\n",
      "funkcja f2, miejsce zerowe: 0.86033358901937976248389342413766217, f(x0): 6.1238553700437890015139298643130111e-34, liczba iteracji: 106\n",
      "funkcja f3, miejsce zerowe: 1.829383601933848817136212946814151, f(x0): 8.6666847497425613387519007416321729e-34, liczba iteracji: 110\n"
     ]
    }
   ],
   "source": [
    "a = bisection(f1, 35, 3*pi/2, 2*pi, mpf(10)**(-33))\n",
    "print_result(f1, a[0], a[1])\n",
    "b = bisection(f2, 35, 0.0001, pi/2, mpf(10)**(-33))\n",
    "print_result(f2, b[0], b[1])\n",
    "c = bisection(f3, 35, 1, 3, mpf(10)**(-33))\n",
    "print_result(f3, c[0], c[1])"
   ]
  },
  {
   "cell_type": "markdown",
   "metadata": {},
   "source": [
    "### K pierwszych pierwiastków\n",
    "\n",
    "Funkcja f1 składa się z cosinusa oraz cosinusa hiperbolicznego. Cosinus hiperboliczny jest zawsze dodatni, a cosinus jest funkcją okresową która przyjmuje również wartości ujemne. Łatwo więc będzie generować kolejne przedziały zawierające jeden pierwiastek oraz mające przeciwny znak funkcji na brzegach. "
   ]
  },
  {
   "cell_type": "markdown",
   "metadata": {},
   "source": [
    "## Zadanie 2 Metoda Newtona"
   ]
  },
  {
   "cell_type": "code",
   "execution_count": 52,
   "metadata": {},
   "outputs": [],
   "source": [
    "def newton(f, f_d, precision, max_iter, start_point, error):\n",
    "    mp.dps = precision\n",
    "    x0 = mpf(start_point)\n",
    "    x1 = mpf(x0 - (f(x0)/f_d(x0)))\n",
    "    i = 1\n",
    "    \n",
    "    while abs(f(x1) - f(x0)) > error and i < max_iter:\n",
    "        x0 = x1\n",
    "        x1 = mpf(x0 - (f(x0)/f_d(x0)))   # root of the tangent line\n",
    "        i += 1\n",
    "    \n",
    "    return [x0, i]"
   ]
  },
  {
   "cell_type": "markdown",
   "metadata": {},
   "source": [
    "Liczba iteracji potrzebnych do osiągnięcia dokładności $ 10^{-7} $"
   ]
  },
  {
   "cell_type": "code",
   "execution_count": 53,
   "metadata": {},
   "outputs": [
    {
     "name": "stdout",
     "output_type": "stream",
     "text": [
      "funkcja f1, miejsce zerowe: 4.73004074486, f(x0): 1.06865627458e-11, liczba iteracji: 4\n",
      "funkcja f2, miejsce zerowe: 0.860333589239, f(x0): -8.1286088971e-10, liczba iteracji: 17\n",
      "funkcja f3, miejsce zerowe: 1.82938360251, f(x0): 2.37287167693e-9, liczba iteracji: 8\n"
     ]
    }
   ],
   "source": [
    "a = newton(f1, f1_d, 12, 120, 3*pi/2, mpf(10)**(-7))\n",
    "print_result(f1, a[0], a[1])\n",
    "b = newton(f2, f2_d, 12, 120, 0.0001, mpf(10)**(-7))\n",
    "print_result(f2, b[0], b[1])\n",
    "c = newton(f3, f3_d, 12, 120, 1, mpf(10)**(-7))\n",
    "print_result(f3, c[0], c[1])"
   ]
  },
  {
   "cell_type": "markdown",
   "metadata": {},
   "source": [
    "Liczba iteracji potrzebnych do osiągnięcia dokładności $ 10^{-15} $"
   ]
  },
  {
   "cell_type": "code",
   "execution_count": 54,
   "metadata": {},
   "outputs": [
    {
     "name": "stdout",
     "output_type": "stream",
     "text": [
      "funkcja f1, miejsce zerowe: 4.730040744862704, f(x0): -7.7195194680967916e-17, liczba iteracji: 5\n",
      "funkcja f2, miejsce zerowe: 0.86033358901937976, f(x0): 0.0, liczba iteracji: 18\n",
      "funkcja f3, miejsce zerowe: 1.8293836019338488, f(x0): 0.0, liczba iteracji: 9\n"
     ]
    }
   ],
   "source": [
    "a = newton(f1, f1_d, 17, 120, 3*pi/2, mpf(10)**(-15))\n",
    "print_result(f1, a[0], a[1])\n",
    "b = newton(f2, f2_d, 17, 120, 0.0001, mpf(10)**(-15))\n",
    "print_result(f2, b[0], b[1])\n",
    "c = newton(f3, f3_d, 17, 120, 1, mpf(10)**(-15))\n",
    "print_result(f3, c[0], c[1])"
   ]
  },
  {
   "cell_type": "markdown",
   "metadata": {},
   "source": [
    "Liczba iteracji potrzebna do osiągnięcia dokładności $ 10^{-33} $"
   ]
  },
  {
   "cell_type": "code",
   "execution_count": 55,
   "metadata": {},
   "outputs": [
    {
     "name": "stdout",
     "output_type": "stream",
     "text": [
      "funkcja f1, miejsce zerowe: 4.7300407448627040260240481008338848, f(x0): -1.6174802267314676109649814752178101e-34, liczba iteracji: 6\n",
      "funkcja f2, miejsce zerowe: 0.86033358901937976248389342413766233, f(x0): -1.5046327690525280101999827676444745e-36, liczba iteracji: 19\n",
      "funkcja f3, miejsce zerowe: 1.8293836019338488171362129468141508, f(x0): 0.0, liczba iteracji: 10\n"
     ]
    }
   ],
   "source": [
    "a = newton(f1, f1_d, 35, 120, 3*pi/2, mpf(10)**(-33))\n",
    "print_result(f1, a[0], a[1])\n",
    "b = newton(f2, f2_d, 35, 120, 0.0001, mpf(10)**(-33))\n",
    "print_result(f2, b[0], b[1])\n",
    "c = newton(f3, f3_d, 35, 120, 1, mpf(10)**(-33))\n",
    "print_result(f3, c[0], c[1])"
   ]
  },
  {
   "cell_type": "markdown",
   "metadata": {},
   "source": [
    "### Wnioski\n",
    "\n",
    "Liczby iteracji potrzebne do osiągnięcia zadanych dokładnośc dla metody bisekcji nie różnią sie za bardzo od siebie między poszczególnymi funkcjami. Przy metodzie newtona wymagane jest dużo mniej iteracji niż przy metodzie bisekcji. Dokładne wartości dla metody newtona różnią sie jednak znacznie dla różnych funkcji."
   ]
  },
  {
   "cell_type": "markdown",
   "metadata": {},
   "source": [
    "## Zadanie 3 Metoda siecznych"
   ]
  },
  {
   "cell_type": "code",
   "execution_count": 56,
   "metadata": {},
   "outputs": [],
   "source": [
    "def secant(f, precision, max_iter, a, b, error):\n",
    "    mp.dps = precision\n",
    "    x0 = mpf(a)\n",
    "    x1 = mpf(b)\n",
    "    x2 = mpf((f(x1) * x0 - f(x0) * x1)/(f(x1) - f(x0)))\n",
    "    i = 0\n",
    "    \n",
    "    while abs(f(x2) - f(x1)) > error and i < max_iter:\n",
    "        x0 = x1\n",
    "        x1 = x2\n",
    "        x2 = mpf((f(x1) * x0 - f(x0) * x1)/(f(x1) - f(x0)))\n",
    "        i += 1\n",
    "        \n",
    "    return [x2, i]"
   ]
  },
  {
   "cell_type": "markdown",
   "metadata": {},
   "source": [
    "Liczba iteracji potrzebna do osiągnięcia dokładności $ 10^{-7} $"
   ]
  },
  {
   "cell_type": "code",
   "execution_count": 57,
   "metadata": {},
   "outputs": [
    {
     "name": "stdout",
     "output_type": "stream",
     "text": [
      "funkcja f1, miejsce zerowe: 4.73004074486, f(x0): 1.06865627458e-11, liczba iteracji: 5\n",
      "funkcja f2, miejsce zerowe: 0.860333589019, f(x0): 2.27373675443e-13, liczba iteracji: 25\n",
      "funkcja f3, miejsce zerowe: 1.82938360193, f(x0): 9.09494701773e-13, liczba iteracji: 9\n"
     ]
    }
   ],
   "source": [
    "a = secant(f1, 12, 120, 3*pi/2, 2*pi, mpf(10)**(-7))\n",
    "print_result(f1, a[0], a[1])\n",
    "b = secant(f2, 12, 120, 0.0001, pi/2, mpf(10)**(-7))\n",
    "print_result(f2, b[0], b[1])\n",
    "c = secant(f3, 12, 120, 1, 3, mpf(10)**(-7))\n",
    "print_result(f3, c[0], c[1])"
   ]
  },
  {
   "cell_type": "markdown",
   "metadata": {},
   "source": [
    "Liczba iteracji potrzebna do osiągnięcia dokładności $ 10^{-15} $"
   ]
  },
  {
   "cell_type": "code",
   "execution_count": 58,
   "metadata": {},
   "outputs": [
    {
     "name": "stdout",
     "output_type": "stream",
     "text": [
      "funkcja f1, miejsce zerowe: 4.730040744862704, f(x0): -7.7195194680967916e-17, liczba iteracji: 7\n",
      "funkcja f2, miejsce zerowe: 0.86033358901937976, f(x0): 0.0, liczba iteracji: 26\n",
      "funkcja f3, miejsce zerowe: 1.8293836019338488, f(x0): 6.9388939039072284e-18, liczba iteracji: 10\n"
     ]
    }
   ],
   "source": [
    "a = secant(f1, 17, 120, 3*pi/2, 2*pi, mpf(10)**(-15))\n",
    "print_result(f1, a[0], a[1])\n",
    "b = secant(f2, 17, 120, 0.0001, pi/2, mpf(10)**(-15))\n",
    "print_result(f2, b[0], b[1])\n",
    "c = secant(f3, 17, 120, 1, 3, mpf(10)**(-15))\n",
    "print_result(f3, c[0], c[1])"
   ]
  },
  {
   "cell_type": "markdown",
   "metadata": {},
   "source": [
    "Liczba iteracji potrzebna do osiągnięcia dokładności $ 10^{-33} $"
   ]
  },
  {
   "cell_type": "code",
   "execution_count": 59,
   "metadata": {},
   "outputs": [
    {
     "name": "stdout",
     "output_type": "stream",
     "text": [
      "funkcja f1, miejsce zerowe: 4.7300407448627040260240481008338848, f(x0): -1.6174802267314676109649814752178101e-34, liczba iteracji: 8\n",
      "funkcja f2, miejsce zerowe: 0.86033358901937976248389342413766233, f(x0): -1.5046327690525280101999827676444745e-36, liczba iteracji: 28\n",
      "funkcja f3, miejsce zerowe: 1.8293836019338488171362129468141508, f(x0): 0.0, liczba iteracji: 12\n"
     ]
    }
   ],
   "source": [
    "a = secant(f1, 35, 120, 3*pi/2, 2*pi, mpf(10)**(-33))\n",
    "print_result(f1, a[0], a[1])\n",
    "b = secant(f2, 35, 120, 0.0001, pi/2, mpf(10)**(-33))\n",
    "print_result(f2, b[0], b[1])\n",
    "c = secant(f3, 35, 120, 1, 3, mpf(10)**(-33))\n",
    "print_result(f3, c[0], c[1])"
   ]
  },
  {
   "cell_type": "markdown",
   "metadata": {},
   "source": [
    "### Wnioski\n",
    "\n",
    "Tabele podsumowywujące metody aproksymacji (liczba iteracji potrzebna do osiągnięcia konkretnej dokładności)\n",
    "\n",
    "Metoda bisekcji\n",
    "\n",
    "|        | $10^{-7}$     | $10^{-15}$    | $10^{-33}$ |\n",
    "|:------:|:-------------:|:-------------:|:----------:|\n",
    "| f1     | 28            | 53            | 111        |\n",
    "| f2     | 20            | 51            | 106        |\n",
    "| f3     | 22            | 51            | 110        |\n",
    "\n",
    "Metoda newtona\n",
    "\n",
    "|        | $10^{-7}$     | $10^{-15}$    | $10^{-33}$ |\n",
    "|:------:|:-------------:|:-------------:|:----------:|\n",
    "| f1     | 4             | 5             | 6          |\n",
    "| f2     | 17            | 18            | 19         |\n",
    "| f3     | 8             | 9             | 10         |\n",
    "\n",
    "Metoda siecznych\n",
    "\n",
    "\n",
    "|        | $10^{-7}$     | $10^{-15}$    | $10^{-33}$ |\n",
    "|:------:|:-------------:|:-------------:|:----------:|\n",
    "| f1     | 5             | 7             | 8          |\n",
    "| f2     | 25            | 26            | 28         |\n",
    "| f3     | 9             | 10            | 12\n",
    "\n",
    "\n",
    "Ogólnie rzecz biorąc metody newtona oraz siecznych sprawują się dużo lepiej od bisekcji. Zaletą bisekcji jest to że nie ma parktycznie znaczenia jakiej funkcji przybliżamy pierwiastek. Przy pozostałych metodach widać znaczną różnice pomiędzy funkcjami. Metoda newtona wydaje się być nieco szybsza od metody siecznych, ale ta druga ma tą zalete że nie wymaga znajomości pochodnej funkcji, której pierwiastek przybliżamy. Pojęcia siecznej oraz stycznej są ze sobą mocno powiązane, dlatego też metody te dają zbliżone rezultaty."
   ]
  },
  {
   "cell_type": "markdown",
   "metadata": {},
   "source": [
    "\n"
   ]
  }
 ],
 "metadata": {
  "kernelspec": {
   "display_name": "Python 3",
   "language": "python",
   "name": "python3"
  },
  "language_info": {
   "codemirror_mode": {
    "name": "ipython",
    "version": 3
   },
   "file_extension": ".py",
   "mimetype": "text/x-python",
   "name": "python",
   "nbconvert_exporter": "python",
   "pygments_lexer": "ipython3",
   "version": "3.6.9"
  }
 },
 "nbformat": 4,
 "nbformat_minor": 4
}
