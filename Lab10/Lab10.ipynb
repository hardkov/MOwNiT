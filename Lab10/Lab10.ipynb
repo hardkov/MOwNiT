{
 "cells": [
  {
   "cell_type": "markdown",
   "metadata": {},
   "source": [
    "# Labolatorium 10 Dyskretna Transformacja Fouriera\n",
    "### Autor: Krzysztof Hardek"
   ]
  },
  {
   "cell_type": "code",
   "execution_count": 216,
   "metadata": {},
   "outputs": [],
   "source": [
    "import numpy as np\n",
    "from matplotlib import pyplot as plt\n",
    "import cmath\n",
    "from scipy import linalg\n",
    "import time"
   ]
  },
  {
   "cell_type": "markdown",
   "metadata": {},
   "source": [
    "## Zad 1 FFT\n",
    "### Funkcja realizująca DFT"
   ]
  },
  {
   "cell_type": "code",
   "execution_count": 217,
   "metadata": {},
   "outputs": [],
   "source": [
    "def f_matrix(n):\n",
    "    F = np.zeros((n, n), dtype=complex)\n",
    "    \n",
    "    for i in range(n):\n",
    "        for j in range(n):\n",
    "            real = np.cos(2 * np.pi / n)\n",
    "            img = -np.sin(2 * np.pi / n)\n",
    "            c = complex(real, img)\n",
    "            F[i][j] = c ** (i * j)\n",
    "            \n",
    "    return F\n",
    "\n",
    "def DFT(y):\n",
    "    F = f_matrix(len(y))\n",
    "    \n",
    "    return F @ y\n",
    "    "
   ]
  },
  {
   "cell_type": "markdown",
   "metadata": {},
   "source": [
    "### Funkcja realizująca IDFT"
   ]
  },
  {
   "cell_type": "code",
   "execution_count": 218,
   "metadata": {},
   "outputs": [],
   "source": [
    "def IDFT(y):\n",
    "    n = len(y)\n",
    "    \n",
    "    F = f_matrix(n)\n",
    "    y_conj = np.conj(y)\n",
    "    \n",
    "    return np.conj(F @ y_conj) / n"
   ]
  },
  {
   "cell_type": "markdown",
   "metadata": {},
   "source": [
    "#### Sprawdzenie poprawności\n",
    "Sprawdzę różnice w wyliczonych DFT oraz róznice y i IDFT(DFT(y)) dla mojej implementacji oraz bibliotecznej"
   ]
  },
  {
   "cell_type": "code",
   "execution_count": 219,
   "metadata": {},
   "outputs": [],
   "source": [
    "def test(n):\n",
    "    y = np.random.rand(n)\n",
    "    y_complex = np.array(y, dtype=complex)\n",
    "    \n",
    "    lib_dft = np.fft.fft(y)\n",
    "    lib_idft = np.fft.ifft(lib_dft)\n",
    "    \n",
    "    my_dft = DFT(y)\n",
    "    my_idft = IDFT(my_dft)\n",
    "    \n",
    "    print('DFT difference')\n",
    "    print(my_dft - lib_dft)\n",
    "    print('y - IDFT')\n",
    "    print('my')\n",
    "    print(y_complex - my_idft)\n",
    "    print('lib')\n",
    "    print(y_complex - lib_idft)\n",
    "    print('\\n\\n')"
   ]
  },
  {
   "cell_type": "code",
   "execution_count": 220,
   "metadata": {},
   "outputs": [
    {
     "name": "stdout",
     "output_type": "stream",
     "text": [
      "DFT difference\n",
      "[ 0.00000000e+00+0.00000000e+00j -1.31838984e-16-1.11022302e-16j\n",
      "  1.11022302e-16-1.86767940e-16j  2.84494650e-16-2.22044605e-16j]\n",
      "y - IDFT\n",
      "my\n",
      "[ 0.00000000e+00+1.30104261e-16j  1.11022302e-16+5.63785130e-17j\n",
      "  1.11022302e-16-4.16333634e-17j -1.11022302e-16-1.38777878e-16j]\n",
      "lib\n",
      "[1.11022302e-16+0.j 0.00000000e+00+0.j 0.00000000e+00+0.j\n",
      " 0.00000000e+00+0.j]\n",
      "\n",
      "\n",
      "\n",
      "DFT difference\n",
      "[ 4.44089210e-16+0.00000000e+00j -4.44089210e-16-3.60822483e-16j\n",
      " -4.44089210e-16+0.00000000e+00j  5.27355937e-16-7.77156117e-16j\n",
      "  2.22044605e-16+1.18900305e-16j -9.15933995e-16-1.66533454e-15j\n",
      "  1.33226763e-15-1.11022302e-16j  2.60902411e-15-2.08166817e-15j]\n",
      "y - IDFT\n",
      "my\n",
      "[-3.33066907e-16+6.07153217e-16j  0.00000000e+00+4.30211422e-16j\n",
      "  2.49800181e-16+1.87350135e-16j  2.22044605e-16-6.24500451e-17j\n",
      "  0.00000000e+00-2.44704430e-16j  2.77555756e-17-4.51028104e-16j\n",
      " -2.77555756e-16-6.45317133e-16j -9.99200722e-16-8.11850587e-16j]\n",
      "lib\n",
      "[ 0.00000000e+00+0.j -1.11022302e-16+0.j  5.55111512e-17+0.j\n",
      " -1.11022302e-16+0.j  1.11022302e-16+0.j -2.77555756e-17+0.j\n",
      "  5.55111512e-17+0.j  0.00000000e+00+0.j]\n",
      "\n",
      "\n",
      "\n",
      "DFT difference\n",
      "[-1.77635684e-15+0.00000000e+00j  8.88178420e-16+1.22124533e-15j\n",
      "  4.71844785e-16+7.77156117e-16j  1.47104551e-15+1.55431223e-15j\n",
      " -1.88737914e-15+1.11022302e-15j -1.44328993e-15-1.33226763e-15j\n",
      "  3.10862447e-15+1.11022302e-15j -1.66533454e-15-1.11022302e-16j\n",
      " -4.44089210e-16-2.23316016e-15j  2.66453526e-15-1.22124533e-15j\n",
      " -4.05231404e-15+2.33146835e-15j  1.11022302e-16-6.66133815e-16j\n",
      "  1.11022302e-15-3.77475828e-15j -3.77475828e-15+1.05471187e-14j\n",
      " -5.30131494e-15-9.99200722e-16j -7.21644966e-15+5.21804822e-15j]\n",
      "y - IDFT\n",
      "my\n",
      "[ 1.11022302e-15-7.63278329e-16j  3.33066907e-16-1.52655666e-15j\n",
      " -2.22044605e-16-4.44089210e-16j  0.00000000e+00-5.55111512e-16j\n",
      "  3.33066907e-16-4.57966998e-16j -1.11022302e-16-9.05525654e-16j\n",
      " -7.77156117e-16-3.79904441e-16j -9.99200722e-16+2.77555756e-17j\n",
      "  1.11022302e-16+1.37390099e-15j  1.11022302e-15+8.32667268e-17j\n",
      "  4.44089210e-16-1.66533454e-16j -1.27675648e-15+1.94289029e-16j\n",
      " -6.66133815e-16+1.97064587e-15j  5.55111512e-16+1.37043155e-15j\n",
      "  7.77156117e-16+1.62023173e-15j  2.02615702e-15+2.88657986e-15j]\n",
      "lib\n",
      "[-1.11022302e-16+0.j -1.11022302e-16+0.j -1.66533454e-16+0.j\n",
      "  0.00000000e+00+0.j -1.11022302e-16+0.j  0.00000000e+00+0.j\n",
      " -1.11022302e-16+0.j  0.00000000e+00+0.j  0.00000000e+00+0.j\n",
      "  0.00000000e+00+0.j -2.22044605e-16+0.j  5.55111512e-17+0.j\n",
      " -1.11022302e-16+0.j  1.11022302e-16+0.j -1.11022302e-16+0.j\n",
      "  0.00000000e+00+0.j]\n",
      "\n",
      "\n",
      "\n",
      "DFT difference\n",
      "[-3.55271368e-15+0.00000000e+00j  1.33226763e-15+6.66133815e-16j\n",
      " -1.11022302e-15-1.77635684e-15j -3.33066907e-16-2.27595720e-15j\n",
      " -3.55271368e-15-1.33226763e-15j -2.83106871e-15-2.88657986e-15j\n",
      " -3.02535774e-15-4.44089210e-16j  4.44089210e-16+8.32667268e-16j\n",
      " -1.02140518e-14-5.77315973e-15j  3.55271368e-15-1.11022302e-14j\n",
      " -5.49560397e-15-7.77156117e-16j  7.77156117e-15-5.77315973e-15j\n",
      " -5.66213743e-15-1.99840144e-15j  6.21724894e-15+5.55111512e-15j\n",
      "  1.22124533e-15-3.77475828e-15j  7.77156117e-15-3.55271368e-15j\n",
      " -5.55111512e-16+2.55548007e-15j  5.99520433e-15+6.16173779e-15j\n",
      " -4.10782519e-15+5.10702591e-15j  5.77315973e-15-1.02140518e-14j\n",
      " -3.44169138e-15-2.44249065e-15j  6.88338275e-15+5.77315973e-15j\n",
      "  1.94289029e-15-8.38218384e-15j  2.22044605e-16+4.32986980e-15j\n",
      "  3.99680289e-15-4.66293670e-15j  3.33066907e-15-1.66533454e-16j\n",
      "  1.31006317e-14-1.33226763e-14j  1.53765889e-14-1.42108547e-14j\n",
      "  2.91433544e-15+4.21884749e-15j -6.71684930e-15+7.63278329e-15j\n",
      "  1.73194792e-14+1.88737914e-14j  9.54791801e-15-1.97619698e-14j]\n",
      "y - IDFT\n",
      "my\n",
      "[-1.83186799e-15+1.66533454e-15j -5.55111512e-16+2.11636264e-15j\n",
      " -5.55111512e-16+2.70616862e-16j  0.00000000e+00+4.16333634e-17j\n",
      " -1.72084569e-15+2.84494650e-16j -1.66533454e-15+8.25728375e-16j\n",
      "  6.66133815e-16+1.99840144e-15j  1.66533454e-15+2.78943535e-15j\n",
      "  2.83106871e-15+9.85322934e-16j  3.05311332e-16-8.32667268e-16j\n",
      "  1.11022302e-15-4.99600361e-16j  9.99200722e-16-3.33066907e-16j\n",
      "  0.00000000e+00+3.78169718e-16j  2.22044605e-15+8.53483950e-16j\n",
      "  1.06858966e-15-1.92901251e-15j -2.55351296e-15-1.85962357e-15j\n",
      "  2.22044605e-15-3.40005801e-16j -1.44328993e-15+3.81639165e-16j\n",
      " -3.33066907e-16-8.81239526e-16j -4.44089210e-16-6.45317133e-16j\n",
      "  8.88178420e-16-1.52655666e-16j  3.33066907e-16+8.60422844e-16j\n",
      "  9.71445147e-16+6.93889390e-18j  6.66133815e-16-2.35922393e-16j\n",
      "  1.16573418e-15-1.90819582e-15j -3.60822483e-16-2.24820162e-15j\n",
      " -1.88737914e-15-2.91433544e-16j  6.10622664e-16+9.36750677e-17j\n",
      "  9.99200722e-16-2.01227923e-16j -6.66133815e-16-1.44675938e-15j\n",
      " -1.22124533e-15-1.79370407e-15j -4.99600361e-16-2.70616862e-15j]\n",
      "lib\n",
      "[ 1.11022302e-16+1.38777878e-17j -5.55111512e-17+3.46944695e-18j\n",
      "  0.00000000e+00+0.00000000e+00j -1.11022302e-16-3.46944695e-18j\n",
      "  5.55111512e-17-2.77555756e-17j  0.00000000e+00+5.55111512e-17j\n",
      " -1.11022302e-16+0.00000000e+00j  1.11022302e-16+0.00000000e+00j\n",
      "  6.93889390e-17+2.77555756e-17j -1.38777878e-17+5.55111512e-17j\n",
      " -1.11022302e-16+1.38777878e-17j  0.00000000e+00-1.38777878e-17j\n",
      "  0.00000000e+00+1.38777878e-17j  0.00000000e+00+2.77555756e-17j\n",
      " -1.11022302e-16+0.00000000e+00j  1.11022302e-16+0.00000000e+00j\n",
      "  0.00000000e+00-1.38777878e-17j -1.11022302e-16-3.46944695e-18j\n",
      "  0.00000000e+00+0.00000000e+00j  0.00000000e+00+3.46944695e-18j\n",
      "  5.55111512e-17+2.77555756e-17j  0.00000000e+00-5.55111512e-17j\n",
      " -5.55111512e-17+0.00000000e+00j  0.00000000e+00+0.00000000e+00j\n",
      "  1.11022302e-16-2.77555756e-17j  1.38777878e-17-5.55111512e-17j\n",
      " -5.55111512e-17-1.38777878e-17j -1.11022302e-16+1.38777878e-17j\n",
      "  0.00000000e+00-1.38777878e-17j -5.55111512e-17-2.77555756e-17j\n",
      "  0.00000000e+00+0.00000000e+00j  1.11022302e-16+0.00000000e+00j]\n",
      "\n",
      "\n",
      "\n"
     ]
    }
   ],
   "source": [
    "test(4)\n",
    "test(8)\n",
    "test(16)\n",
    "test(32)"
   ]
  },
  {
   "cell_type": "markdown",
   "metadata": {},
   "source": [
    "#### Wnioski\n",
    "W obydwóch implementacjach jest pewna niewielka różnica pomiędzy y a IDFT(DFT(y). Musi ona występować ze względu na niedokładną reprezentację liczb. Wyliczone DFT nie są identyczne, wynika to z tego, że w funkcji bibliotecznej używany jest inny algorytm (FFT), który wykonuje inną liczbę operacji (mniejsza złożoność), więc wyniki muszą się trochę różnić. Mimo wszystko funkcja biblioteczna sprawuje się nieco lepiej od mojej, ale róznice są niewielkie "
   ]
  },
  {
   "cell_type": "markdown",
   "metadata": {},
   "source": [
    "### Algorytm Cooleya-Turkeya"
   ]
  },
  {
   "cell_type": "code",
   "execution_count": 221,
   "metadata": {},
   "outputs": [],
   "source": [
    "def FFT(y):\n",
    "    y = y[:]\n",
    "    n = len(y)\n",
    "    \n",
    "    if n <= 1:\n",
    "        return y\n",
    "    else:\n",
    "        y_even = FFT(y[::2])\n",
    "        y_odd = FFT(y[1::2])\n",
    "        f = np.exp(-2j * np.pi * np.arange(n) / n)\n",
    "        return np.concatenate([y_even + f[:int(n / 2)] * y_odd,\n",
    "                               y_even + f[int(n / 2):] * y_odd])"
   ]
  },
  {
   "cell_type": "markdown",
   "metadata": {},
   "source": [
    "#### Testowanie"
   ]
  },
  {
   "cell_type": "code",
   "execution_count": 222,
   "metadata": {},
   "outputs": [],
   "source": [
    "def test_fft(n):\n",
    "    y = np.random.rand(n)\n",
    "    \n",
    "    start_time = time.time()\n",
    "    \n",
    "    FFT(y)\n",
    "    my_fft_time = time.time()\n",
    "    \n",
    "    np.fft.fft(y)\n",
    "    lib_time = time.time()\n",
    "    \n",
    "    DFT(y)\n",
    "    my_dft_time = time.time()\n",
    "    \n",
    "    print(f'size:{n}')\n",
    "    print(f'my dff: {my_fft_time - start_time}')\n",
    "    print(f'lib: {lib_time - my_fft_time}')\n",
    "    print(f'my dft: {my_dft_time - lib_time}')\n",
    "    print('\\n')"
   ]
  },
  {
   "cell_type": "code",
   "execution_count": 223,
   "metadata": {},
   "outputs": [
    {
     "name": "stdout",
     "output_type": "stream",
     "text": [
      "size:32\n",
      "my dff: 0.0009105205535888672\n",
      "lib: 3.123283386230469e-05\n",
      "my dft: 0.00576472282409668\n",
      "\n",
      "\n",
      "size:64\n",
      "my dff: 0.002015829086303711\n",
      "lib: 3.123283386230469e-05\n",
      "my dft: 0.02265620231628418\n",
      "\n",
      "\n",
      "size:128\n",
      "my dff: 0.002685070037841797\n",
      "lib: 3.814697265625e-05\n",
      "my dft: 0.08835053443908691\n",
      "\n",
      "\n",
      "size:256\n",
      "my dff: 0.005723237991333008\n",
      "lib: 4.7206878662109375e-05\n",
      "my dft: 0.3550145626068115\n",
      "\n",
      "\n",
      "size:512\n",
      "my dff: 0.013737201690673828\n",
      "lib: 6.127357482910156e-05\n",
      "my dft: 1.3950221538543701\n",
      "\n",
      "\n",
      "size:1024\n",
      "my dff: 0.027662277221679688\n",
      "lib: 0.0001544952392578125\n",
      "my dft: 5.633782386779785\n",
      "\n",
      "\n",
      "size:2048\n",
      "my dff: 0.04202389717102051\n",
      "lib: 0.00011515617370605469\n",
      "my dft: 21.719351053237915\n",
      "\n",
      "\n"
     ]
    }
   ],
   "source": [
    "for power in range(5, 12):\n",
    "    test_fft(2 ** power)"
   ]
  },
  {
   "cell_type": "markdown",
   "metadata": {},
   "source": [
    "#### Wnioski\n",
    "Moja własna implementacja oraz biblioteczna FFT dają znacznie lepsze rezultaty niż prosty DFT. Dla rozmiaru 2 ** 11 rozwiązanie wykorzystujące mnożenie macierzy wykonuje się pięć rzędów wielkości dłużej. Jeśli chodzi o różnice samych FFT, to funkcja biblioteczna zdaje się być około trzy rzędy wielkości szybsza. Możliwe że wprowadzone zostały tam usprawnienia, takie jak użycie prostego DFT poniżej pewnego rozmiaru, użycie iteracyjnej implementacji lub wprowadzanie równoległego obliczania.  "
   ]
  },
  {
   "cell_type": "markdown",
   "metadata": {},
   "source": [
    "## Zad 2 DFT w 1D\n",
    "### Generowanie sygnałów"
   ]
  },
  {
   "cell_type": "code",
   "execution_count": 224,
   "metadata": {},
   "outputs": [],
   "source": [
    "def sin(t, w, A):\n",
    "    return A * np.sin(t*w)    "
   ]
  },
  {
   "cell_type": "code",
   "execution_count": 225,
   "metadata": {},
   "outputs": [],
   "source": [
    "t_arr = range(1, 101)\n",
    "w = [1, 2, 0.5, 3, 0.2]\n",
    "\n",
    "a = [sin(t, w[0], 1) + sin(t, w[1], 1) + sin(t, w[2], 1) + sin(t, w[3], 1) + sin(t, w[4], 1) \n",
    "     for t in t_arr]\n",
    "\n",
    "b = [sin(t, w[int((t-1)/20)], 1) for t in t_arr]\n"
   ]
  },
  {
   "cell_type": "code",
   "execution_count": 226,
   "metadata": {},
   "outputs": [
    {
     "data": {
      "image/png": "[encoded data removed]",
      "text/plain": [
       "<Figure size 432x288 with 1 Axes>"
      ]
     },
     "metadata": {
      "needs_background": "light"
     },
     "output_type": "display_data"
    },
    {
     "data": {
      "image/png": "[encoded data removed]",
      "text/plain": [
       "<Figure size 432x288 with 1 Axes>"
      ]
     },
     "metadata": {
      "needs_background": "light"
     },
     "output_type": "display_data"
    }
   ],
   "source": [
    "plt.plot(t, a, color='c')\n",
    "plt.xlabel('t')\n",
    "plt.ylabel('Signal')\n",
    "plt.show()\n",
    "\n",
    "plt.plot(t, b, color='r')\n",
    "plt.xlabel('t')\n",
    "plt.ylabel('Signal')\n",
    "plt.show()"
   ]
  },
  {
   "cell_type": "markdown",
   "metadata": {},
   "source": [
    "### Transformacja do domeny częstotliwościowej\n",
    "Sygnał a"
   ]
  },
  {
   "cell_type": "code",
   "execution_count": 227,
   "metadata": {},
   "outputs": [
    {
     "data": {
      "image/png": "[encoded data removed]",
      "text/plain": [
       "<Figure size 432x288 with 1 Axes>"
      ]
     },
     "metadata": {
      "needs_background": "light"
     },
     "output_type": "display_data"
    },
    {
     "data": {
      "image/png": "[encoded data removed]",
      "text/plain": [
       "<Figure size 432x288 with 1 Axes>"
      ]
     },
     "metadata": {
      "needs_background": "light"
     },
     "output_type": "display_data"
    }
   ],
   "source": [
    "af = np.fft.fft(a)\n",
    "bf = np.fft.fft(b)\n",
    "\n",
    "plt.scatter(t, np.real(af), color='b')\n",
    "plt.xlabel('t')\n",
    "plt.ylabel('Real')\n",
    "plt.show()\n",
    "\n",
    "plt.scatter(t, np.imag(af), color='r')\n",
    "plt.xlabel('t')\n",
    "plt.ylabel('Imag')\n",
    "plt.show()\n"
   ]
  },
  {
   "cell_type": "markdown",
   "metadata": {},
   "source": [
    "Sygnał b"
   ]
  },
  {
   "cell_type": "code",
   "execution_count": 228,
   "metadata": {},
   "outputs": [
    {
     "data": {
      "image/png": "[encoded data removed]",
      "text/plain": [
       "<Figure size 432x288 with 1 Axes>"
      ]
     },
     "metadata": {
      "needs_background": "light"
     },
     "output_type": "display_data"
    },
    {
     "data": {
      "image/png": "[encoded data removed]",
      "text/plain": [
       "<Figure size 432x288 with 1 Axes>"
      ]
     },
     "metadata": {
      "needs_background": "light"
     },
     "output_type": "display_data"
    }
   ],
   "source": [
    "plt.scatter(t, np.real(bf), color='b')\n",
    "plt.xlabel('t')\n",
    "plt.ylabel('Real')\n",
    "plt.show()\n",
    "\n",
    "plt.scatter(t, np.imag(bf), color='r')\n",
    "plt.xlabel('t')\n",
    "plt.ylabel('Imag')\n",
    "plt.show()"
   ]
  },
  {
   "cell_type": "markdown",
   "metadata": {},
   "source": [
    "### Wnioski\n",
    "Wykresy części rzeczywistej wykazują symetrie osiową, a wykresy części urojonej - punktową. Wykres przebiegu sygnału a (tego z nałożonymi sygnałami) wydaje się być dużo bardziej przejrzysty i nadający sie do analizy."
   ]
  }
 ],
 "metadata": {
  "kernelspec": {
   "display_name": "Python 3",
   "language": "python",
   "name": "python3"
  },
  "language_info": {
   "codemirror_mode": {
    "name": "ipython",
    "version": 3
   },
   "file_extension": ".py",
   "mimetype": "text/x-python",
   "name": "python",
   "nbconvert_exporter": "python",
   "pygments_lexer": "ipython3",
   "version": "3.8.3"
  }
 },
 "nbformat": 4,
 "nbformat_minor": 4
}
