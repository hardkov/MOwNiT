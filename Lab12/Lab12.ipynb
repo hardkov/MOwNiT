{
 "cells": [
  {
   "cell_type": "markdown",
   "metadata": {},
   "source": [
    "# Laboratorium 12 Równania różniczkowe i zagadnienie początkowe\n",
    "### Autor: Krzysztof Hardek"
   ]
  },
  {
   "cell_type": "code",
   "execution_count": 139,
   "metadata": {},
   "outputs": [],
   "source": [
    "import numpy as np"
   ]
  },
  {
   "cell_type": "markdown",
   "metadata": {},
   "source": [
    "## Zadanie 1 Metoda Rungego-Kutty \n",
    "Funkcja pomocnicza"
   ]
  },
  {
   "cell_type": "code",
   "execution_count": 140,
   "metadata": {},
   "outputs": [],
   "source": [
    "def rung_kut4(f, x0, y0, h, n):\n",
    "    xn = x0\n",
    "    yn = y0\n",
    "    \n",
    "    for i in range(n):     \n",
    "        k1 = h * f(xn, yn)\n",
    "        k2 = h * f(xn + h/2, yn + k1/2)\n",
    "        k3 = h * f(xn + h/2, yn + k2/2)\n",
    "        k4 = h * f(xn + h, yn + k3)\n",
    "        \n",
    "        d_yn = (k1 + 2 * k2 + 2 * k3 + k4) / 6\n",
    "\n",
    "        yn += d_yn\n",
    "        xn += h\n",
    "    \n",
    "    return xn, yn"
   ]
  },
  {
   "cell_type": "markdown",
   "metadata": {},
   "source": [
    "### Zalety metody w porównaniu do metody z szeregami Taylora\n",
    "Metoda Rungego-Kutty ma tą zaletę w porównaniu do metody z szeregami Taylora, że nie musimy ręcznie wyliczać kolejnych pochodnych funkcji."
   ]
  },
  {
   "cell_type": "markdown",
   "metadata": {},
   "source": [
    "### Rozwiązanie zagadnienia początkowego danego równaniem $ x' = x/t + tsec(x/t) $ z warunkiem początkowym $ x(0) = 0 $\n",
    "Ustawiam liczbę kroków na $ 2^7 $ tak aby skończyć na 1. Nie mogę jako warunku początkowego ustawić (0, 0), ponieważ nie jest w dziedzinie funkcji dwóch zmiennych będącej po prawej stronie równania"
   ]
  },
  {
   "cell_type": "code",
   "execution_count": 141,
   "metadata": {},
   "outputs": [
    {
     "name": "stdout",
     "output_type": "stream",
     "text": [
      "1.000000001 1.5191251415534004\n"
     ]
    }
   ],
   "source": [
    "def f(t, x):\n",
    "    return x/t + t * (1 / np.cos(x / t))\n",
    "\n",
    "\n",
    "x, y = rung_kut4(f, 0.000000001, 0, 2 ** (-7), 2 ** 7)\n",
    "print(x, y)"
   ]
  },
  {
   "cell_type": "markdown",
   "metadata": {},
   "source": [
    "Porównanie z dokładnym wynikiem ($ \\pi/2 $)"
   ]
  },
  {
   "cell_type": "code",
   "execution_count": 142,
   "metadata": {},
   "outputs": [
    {
     "name": "stdout",
     "output_type": "stream",
     "text": [
      "0.051671185241496165\n"
     ]
    }
   ],
   "source": [
    "print(abs(np.pi/2 - y))"
   ]
  },
  {
   "cell_type": "markdown",
   "metadata": {},
   "source": [
    "#### Wnioski\n",
    "Biorąc pod uwagę prostote implementacji oraz problemy związane z wartością początkową, metoda zwraca dobre przybliżenie wyniku"
   ]
  },
  {
   "cell_type": "markdown",
   "metadata": {},
   "source": [
    "### Zagadnienie początkowe $ x' = 100(\\sin(t) - x) $ z warunkiem początkowym $ x(0) = 0 $"
   ]
  },
  {
   "cell_type": "code",
   "execution_count": 143,
   "metadata": {},
   "outputs": [],
   "source": [
    "def g(t, x):\n",
    "    return 100 * (np.sin(t) - x)"
   ]
  },
  {
   "cell_type": "markdown",
   "metadata": {},
   "source": [
    "h = 0.015"
   ]
  },
  {
   "cell_type": "code",
   "execution_count": 144,
   "metadata": {},
   "outputs": [
    {
     "name": "stdout",
     "output_type": "stream",
     "text": [
      "(3.0000000000000027, 0.15100302946455946)\n"
     ]
    }
   ],
   "source": [
    "print(rung_kut4(g, 0, 0, 0.015, int(3/0.015)))"
   ]
  },
  {
   "cell_type": "markdown",
   "metadata": {},
   "source": [
    "h = 0.02"
   ]
  },
  {
   "cell_type": "code",
   "execution_count": 145,
   "metadata": {},
   "outputs": [
    {
     "name": "stdout",
     "output_type": "stream",
     "text": [
      "(3.000000000000002, 0.15099613280114094)\n"
     ]
    }
   ],
   "source": [
    "print(rung_kut4(g, 0, 0, 0.02, int(3/0.02)))"
   ]
  },
  {
   "cell_type": "markdown",
   "metadata": {},
   "source": [
    "h = 0.025"
   ]
  },
  {
   "cell_type": "code",
   "execution_count": 146,
   "metadata": {},
   "outputs": [
    {
     "name": "stdout",
     "output_type": "stream",
     "text": [
      "(2.9999999999999933, 0.150943166101132)\n"
     ]
    }
   ],
   "source": [
    "print(rung_kut4(g, 0, 0, 0.025, int(3/0.025)))"
   ]
  },
  {
   "cell_type": "markdown",
   "metadata": {},
   "source": [
    "h = 0.03"
   ]
  },
  {
   "cell_type": "code",
   "execution_count": 147,
   "metadata": {},
   "outputs": [
    {
     "name": "stdout",
     "output_type": "stream",
     "text": [
      "(2.999999999999995, 672890582787.5087)\n"
     ]
    }
   ],
   "source": [
    "print(rung_kut4(g, 0, 0, 0.03, int(3/0.03)))"
   ]
  },
  {
   "cell_type": "markdown",
   "metadata": {},
   "source": [
    "#### Wnioski\n",
    "Metoda Rungego-Kutty ma to do siebie, że dla szybko zmieniających się funkcji (badana funkcja zdecydowanie taka jest) krok całkujący musi być mały, żeby błąd się nie powiększał. W zadanych przykładach 0.015, 0.02 oraz 0.025 są jeszcze odpowiednie i dają dobre przybliżenie wyniku, ale 0.3 jest już zdecydowanie za duże. Przy zwiększaniu kroku błąd będzie jeszcze większy. Generalnie przy implementacji tego algorytmu stosuje się dodatkowe monitorowanie błędu i ewentualnie robi się poprawki wraz z wyliczaniem rozwiązania."
   ]
  },
  {
   "cell_type": "markdown",
   "metadata": {},
   "source": [
    "## Zadanie 2 Adaptacyjna metoda Rungego-Kutty-Fehlberga\n",
    "Funkcje pomocnicze"
   ]
  },
  {
   "cell_type": "code",
   "execution_count": 148,
   "metadata": {},
   "outputs": [],
   "source": [
    "def rk45(f, x0, y0, h):\n",
    "    c20 = 0.25\n",
    "    c21 = 0.25\n",
    "    c30 = 0.375\n",
    "    c31 = 0.09375\n",
    "    c32 = 0.28125\n",
    "    c40 = 12/13\n",
    "    c41 = 1932/2197\n",
    "    c42 = -7200/2197\n",
    "    c43 = 7296/2197\n",
    "    c51 = 439/216\n",
    "    c52 = -8.\n",
    "    c53 = 3680/513\n",
    "    c54 = -845/4104\n",
    "    c60 = 0.5\n",
    "    c61 = -8/27\n",
    "    c62 = 2.\n",
    "    c63 = -3544/2565\n",
    "    c64 = 1859/4104\n",
    "    c65 = -0.275\n",
    "    a1 = 25/216\n",
    "    a2 = 0\n",
    "    a3 = 1408/2565\n",
    "    a4 = 2197/4104\n",
    "    a5 = -0.2\n",
    "    b1 = 16/135\n",
    "    b2 = 0\n",
    "    b3 = 6656/12825\n",
    "    b4 = 28561/56430\n",
    "    b5 = -0.18\n",
    "    b6 = 2/55\n",
    "    \n",
    "    k1 = h * f(x0, y0)\n",
    "    k2 = h * f(x0 + c20*h, y0 + c21*k1)\n",
    "    k3 = h * f(x0 + c30*h, y0 + c31*k1 + c32*k2)\n",
    "    k4 = h * f(x0 + c40*h, y0 + c41*k1 + c42*k2 + c43*k3)\n",
    "    k5 = h * f(x0 + h, y0 + c51*k1 + c52*k2 + c53*k3 + c54*k4)\n",
    "    k6 = h * f(x0 + c60*h, y0 + c61*k1 + c62*k2 + c63*k3 + c64*k4 + c65*k5)\n",
    "    \n",
    "    y4 = y0 + a1*k1 + a3*k3 + a4*k4 + a5*k5\n",
    "    \n",
    "    y0 += b1*k1 + b3*k3 + b4*k4 + b5*k5 + b6*k6\n",
    "    x0 += + h\n",
    "    \n",
    "    e = abs(y0 - y4)\n",
    "    \n",
    "    return x0, y0, e\n",
    "\n",
    "\n",
    "def rk45_adaptive(f, x0, y0, h, xb, itmax, e_max, e_min, h_min, h_max):\n",
    "    iflag = 1\n",
    "    delta = 0.5 * (10 ** -5)\n",
    "    d = -1\n",
    "    y_save = -1\n",
    "    x_save = -1\n",
    "    k = 0\n",
    "    \n",
    "    while k <= itmax:\n",
    "        k += 1\n",
    "        \n",
    "        if abs(h) < h_min:\n",
    "            h = np.sign(h) * h_min\n",
    "        \n",
    "        if abs(h) > h_max:\n",
    "            h = np.sign(h) * h_max\n",
    "        \n",
    "        d = abs(xb - x0)\n",
    "        \n",
    "        if d <= abs(h):\n",
    "            iflag = 0\n",
    "            if d <= delta * max([abs(xb), abs(x)]):\n",
    "                break\n",
    "            h = np.sign(h) * d\n",
    "        \n",
    "        y_save = y0\n",
    "        x_save = x0\n",
    "        \n",
    "        x0, y0, e = rk45(f, x0, y0, h)\n",
    "        \n",
    "        if iflag == 0:\n",
    "            break\n",
    "        \n",
    "        if e < e_min:\n",
    "            h = 2*h\n",
    "        \n",
    "        if e > e_max:\n",
    "            h = h/2\n",
    "            y = y_save\n",
    "            x = x_save\n",
    "            k = k - 1\n",
    "    \n",
    "    return x0, y0, iflag"
   ]
  },
  {
   "cell_type": "markdown",
   "metadata": {},
   "source": [
    "Test z Kincaid i Cheney"
   ]
  },
  {
   "cell_type": "code",
   "execution_count": 149,
   "metadata": {},
   "outputs": [
    {
     "data": {
      "text/plain": [
       "(10.0, 135.9172466935473, 0)"
      ]
     },
     "execution_count": 149,
     "metadata": {},
     "output_type": "execute_result"
    }
   ],
   "source": [
    "def func(x, y):\n",
    "    return 3 + 5 * np.sin(x) + 0.2 * y\n",
    "\n",
    "rk45_adaptive(func, 0, 0, 0.01, 10.0, 1000, 10 ** -5, 10 ** -8, 10 ** -6, 1)"
   ]
  },
  {
   "cell_type": "markdown",
   "metadata": {},
   "source": [
    "### Rozwiązanie zagadnienia początkowego $ x' = 3x/t + 9/2t - 13 $ z warunkiem brzegowym $ x(3) = 6 $"
   ]
  },
  {
   "cell_type": "code",
   "execution_count": 150,
   "metadata": {},
   "outputs": [
    {
     "name": "stdout",
     "output_type": "stream",
     "text": [
      "(0.5, 2.2500000062784338, 0)\n",
      "2.25\n"
     ]
    }
   ],
   "source": [
    "def fi(t, x):\n",
    "    return 3 * (x/t) + t * 4.5 - 13\n",
    "\n",
    "def solution(t):\n",
    "    return t ** 3 - (t ** 2) * 4.5 + 6.5 * t\n",
    "\n",
    "print(rk45_adaptive(fi, 3, 6, -0.01, 0.5, 1000, 9 * (10 ** -9), 10 ** -9, 10 ** -8, 1))\n",
    "print(solution(0.5))"
   ]
  },
  {
   "cell_type": "markdown",
   "metadata": {},
   "source": [
    "### Wnioski\n",
    "Wyniki są bardzo zbliżone do siebie (9 miejsc po przecinku). Można to osiągnąc za pomocą standardowej impmelentacji: zamiast kroku h wykonać dwa kroki h/2 i porównać różnice i na jej podstawie zmniejszać bądź zwiększać krok. Jest to jednak zbyt czasochłone. Zamiast tego liczymy RK rzędu piątego i róznica rk4 i rk5 jest naszym błędem. Mając tą informacje możemy odpowiednio manipulować krokiem, tak aby zarówno jego wartość jaki wartość błedu spełniała z góry narzucone limity. Otrzymujemy w ten sposób rozwiązanie w miarę szybkie oraz dokładne."
   ]
  }
 ],
 "metadata": {
  "kernelspec": {
   "display_name": "Python 3",
   "language": "python",
   "name": "python3"
  },
  "language_info": {
   "codemirror_mode": {
    "name": "ipython",
    "version": 3
   },
   "file_extension": ".py",
   "mimetype": "text/x-python",
   "name": "python",
   "nbconvert_exporter": "python",
   "pygments_lexer": "ipython3",
   "version": "3.8.3"
  }
 },
 "nbformat": 4,
 "nbformat_minor": 4
}
