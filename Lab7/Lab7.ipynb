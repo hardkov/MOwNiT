{
 "cells": [
  {
   "cell_type": "markdown",
   "metadata": {},
   "source": [
    "# Laboratorium 7 Dekompozycja spektralna\n",
    "### Autor: Krzysztof Hardek"
   ]
  },
  {
   "cell_type": "code",
   "execution_count": 538,
   "metadata": {},
   "outputs": [],
   "source": [
    "import numpy as np\n",
    "import time\n",
    "import matplotlib.pyplot as plt\n",
    "import scipy"
   ]
  },
  {
   "cell_type": "markdown",
   "metadata": {},
   "source": [
    "## Zad 1 Metoda potęgowa\n",
    "Własna implementacja metody potęgowej oraz funkcji testowych"
   ]
  },
  {
   "cell_type": "code",
   "execution_count": 539,
   "metadata": {},
   "outputs": [],
   "source": [
    "def power_iteration(A, max_i, e_min):\n",
    "    x0 = np.random.rand(len(A))\n",
    "    e = e_min + 1\n",
    "    i = 0\n",
    "    \n",
    "    while i < i_max and e > e_min:\n",
    "        tmp_x0 = x0\n",
    "        x0 = np.dot(A, x0)\n",
    "        x0 = x0 / np.linalg.norm(x0, ord=np.inf)\n",
    "        e = np.linalg.norm(np.subtract(np.absolute(x0), np.absolute(tmp_x0)))\n",
    "        i += 1\n",
    "        \n",
    "    l = np.dot(x0, np.dot(A, np.transpose(x0))) / np.dot(x0, np.transpose(x0))\n",
    "    \n",
    "    return x0 / np.linalg.norm(x0), l\n",
    "\n",
    "\n",
    "def exec_lib_func(A):\n",
    "    u, v = np.linalg.eig(A)\n",
    "    u_max = 0\n",
    "    v_max = np.zeros(len(A))\n",
    "    \n",
    "    for i in range(len(A)):\n",
    "        if(abs(u[i]) >= u_max):\n",
    "            u_max = abs(u[i])\n",
    "            v_max = v[:, i] \n",
    "            \n",
    "    return v_max, u_max\n",
    "\n",
    "def test(A):\n",
    "    t1 = time.time()\n",
    "    power_iteration(A, 1000, 10**-15)\n",
    "    \n",
    "    t2 = time.time()\n",
    "    np.linalg.eig(A)\n",
    "    \n",
    "    t3 = time.time()\n",
    "    \n",
    "    return t2 - t1, t3 - t2\n",
    "\n",
    "def plot(x_vals):\n",
    "    x = []\n",
    "    y_my_imp = []\n",
    "    y_lib = []\n",
    "\n",
    "    for val in x_vals:\n",
    "        A = np.random.rand(val, val)\n",
    "        x.append(val)\n",
    "        \n",
    "        y1, y2 = test(A)\n",
    "        \n",
    "        y_my_imp.append(y1)\n",
    "        y_lib.append(y2)\n",
    "    \n",
    "    plt.xlabel(\"Matrix size\")\n",
    "    plt.ylabel(\"Time (s)\")\n",
    "    plt.title(\"My implementation\")\n",
    "    plt.plot(x, y_my_imp, color=\"m\")\n",
    "    plt.show()\n",
    "    \n",
    "    plt.xlabel(\"Matrix size\")\n",
    "    plt.ylabel(\"Time (s)\")\n",
    "    plt.title(\"Lib function\")\n",
    "    plt.plot(x, y_lib, color=\"c\")\n",
    "    plt.show()\n",
    "    "
   ]
  },
  {
   "cell_type": "markdown",
   "metadata": {},
   "source": [
    "### Test poprawności na prostym przykladzie"
   ]
  },
  {
   "cell_type": "code",
   "execution_count": 540,
   "metadata": {},
   "outputs": [
    {
     "name": "stdout",
     "output_type": "stream",
     "text": [
      "[0.28021209 0.65232988 0.70423499] 13.195636106338396\n",
      "[-0.28021209 -0.65232988 -0.70423499] 13.195636108300677\n"
     ]
    }
   ],
   "source": [
    "A = np.array([[1, 2, 3],\n",
    "             [4, 5, 6],\n",
    "             [7, 8, 3]])\n",
    "\n",
    "x0, l = power_iteration(A, 10000, 10**-8)\n",
    "print(x0 , l)\n",
    "\n",
    "x0, l = exec_lib_func(A)\n",
    "print(x0, l)"
   ]
  },
  {
   "cell_type": "markdown",
   "metadata": {},
   "source": [
    "### Testy wydajnościowe"
   ]
  },
  {
   "cell_type": "code",
   "execution_count": 543,
   "metadata": {},
   "outputs": [
    {
     "data": {
      "image/png": "[encoded data removed]",
      "text/plain": [
       "<Figure size 432x288 with 1 Axes>"
      ]
     },
     "metadata": {
      "needs_background": "light"
     },
     "output_type": "display_data"
    },
    {
     "data": {
      "image/png": "[encoded data removed]",
      "text/plain": [
       "<Figure size 432x288 with 1 Axes>"
      ]
     },
     "metadata": {
      "needs_background": "light"
     },
     "output_type": "display_data"
    }
   ],
   "source": [
    "x_vals = list(range(100, 1100, 25))\n",
    "plot(x_vals)"
   ]
  },
  {
   "cell_type": "markdown",
   "metadata": {},
   "source": [
    "### Wnioski\n",
    "Moja implementacja wydaje się być poprawna - dla przypadku testowego zwraca ten sam wynik (z dokładnością do znaku składowych wektora). Jeśli chodzi o wydajność to moja implementacja działa dużo szybciej. Wynika to z tego, że w mojej metodzie iteracyjnie przybliżam wartości składowe tylko jednego konkretnego wektora własnego, a funkcja biblioteczna liczy je wszystkie. W ogólnym przypadku przy mnożeniu macierzy (x,y) * (y,z) wykonuje xyz mnożeń, a więc w moim algorytmie wykonuje (liczba_iteracji) * n^2 mnożeń, gdzie n to rozmiar macierzy A (wejściowej). Zakładając stałą liczbe iteracji można określić złożoność obliczeniową jako O(n^2). W drugim algorytmie n^2 definiuje już dolne ograniczenie dla złożoności obliczeniowej. W praktyce jest taka jak mnożenie dwóch macierzy kwadratowych czyli O(n^3). Na wykresach widać charakterystyczne tępo wzrostu dla poszczególnych złożonośći (biorąc pod uwagę również skalę wykresu a nie sam kształt). "
   ]
  },
  {
   "cell_type": "markdown",
   "metadata": {},
   "source": [
    "## Zad 2 Odwrotna metoda potęgowa\n",
    "Implementacja funkcji"
   ]
  },
  {
   "cell_type": "code",
   "execution_count": 537,
   "metadata": {},
   "outputs": [],
   "source": [
    "def forward(L, x):\n",
    "    y = []\n",
    "    for i in range(len(x)):\n",
    "        sum = x[i]\n",
    "        for j in range(i):\n",
    "            sum -= L[i][j] * y[j]\n",
    "        sum /= L[i][i]\n",
    "        y.append(sum)\n",
    "        \n",
    "    return y\n",
    "        \n",
    "def backward(U, x):\n",
    "    y = []\n",
    "    for i in range(len(x)-1, -1, -1):\n",
    "        sum = x[i]\n",
    "        for j in range(len(x)-1, i, -1):\n",
    "            sum -= U[i][j] * y[j-i-1]\n",
    "        sum /= U[i][i]\n",
    "        \n",
    "        y.insert(0, sum)\n",
    "    \n",
    "    return y\n",
    "\n",
    "\n",
    "def inverse_iteration(A, u, e_min):\n",
    "    x0 = np.random.rand(len(a))\n",
    "    e = e_min + 1\n",
    "    I = np.diag(np.ones(len(A)));\n",
    "    B = np.subtract(A, I*u)\n",
    "    P, L, U = scipy.linalg.lu(B)\n",
    "    \n",
    "    while e > e_min:\n",
    "        tmp_x0 = x0 / np.linalg.norm(x0)\n",
    "        y = forward(L, np.dot(tmp_x0, np.transpose(P)))\n",
    "        x0 = backward(U, y)\n",
    "        x0 = x0 / np.linalg.norm(x0)\n",
    "        e = np.linalg.norm(np.subtract(np.absolute(x0), np.absolute(tmp_x0)))\n",
    "    \n",
    "    l = np.dot(x0, np.dot(B, np.transpose(x0))) / np.dot(x0, np.transpose(x0))\n",
    "    \n",
    "    return x0, l + u"
   ]
  },
  {
   "cell_type": "markdown",
   "metadata": {},
   "source": [
    "#### Wyjaśnienie  \n",
    "Zamiast za każdym razem dokonywac rozwiązywania układu równań gaussem, na starcie dokonuje dekompozycji LU, dzięki czemu mogę skorzystać z forward oraz backward substitiution. Metody te są realizowane za pomocą funkcji backward oraz forward."
   ]
  },
  {
   "cell_type": "markdown",
   "metadata": {},
   "source": [
    "### Test poprawności"
   ]
  },
  {
   "cell_type": "code",
   "execution_count": 534,
   "metadata": {},
   "outputs": [],
   "source": [
    "a = np.random.rand(3, 3)"
   ]
  },
  {
   "cell_type": "code",
   "execution_count": 536,
   "metadata": {},
   "outputs": [
    {
     "name": "stdout",
     "output_type": "stream",
     "text": [
      "[0.52842082 0.55476112 0.64265974] 1.6681660607107893\n",
      "[ 0.80696627 -0.57517024 -0.13410681] 0.2505305026188509\n",
      "[ 0.15633175 -0.91922591  0.36136424] -0.07665681189456418\n",
      "(array([ 1.6681661 ,  0.25052991, -0.07665722]), array([[-0.52842042, -0.80696505,  0.15633029],\n",
      "       [-0.55476138,  0.57517218, -0.91922587],\n",
      "       [-0.64265984,  0.1341058 ,  0.36136497]]))\n"
     ]
    }
   ],
   "source": [
    "x0, l = inverse_iteration(a, 1.5, 10**-5)\n",
    "print(x0, l)\n",
    "\n",
    "x0, l = inverse_iteration(a, 0.5, 10**-5)\n",
    "print(x0, l)\n",
    "\n",
    "x0, l = inverse_iteration(a, 0, 10**-5)\n",
    "print(x0, l)\n",
    "\n",
    "print(np.linalg.eig(a))"
   ]
  },
  {
   "cell_type": "markdown",
   "metadata": {},
   "source": [
    "### Wnioski\n",
    "Podobnie jak w poprzednim zadaniu zwracane wartości z mojej funkcji oraz funkcji bibliotecznej są takie same z dokładnością do znaku. Zasadniczo rzecz biorąc prymitywna forma tej metody inverse iteration to to samo co power iteration tylko zamiast macierzy A podstawiamy $ (A - \\mu I)^{-1} $. Pozwala nam to potem na wprowadzenie pewnych ulepszeń, które nie dość, że przyśpieszają wykonanie to jescze dostarczają nowej funkcjolnalności w postaci możliwości policzenie innej niż tylko dominująca wartość własna."
   ]
  }
 ],
 "metadata": {
  "kernelspec": {
   "display_name": "Python 3",
   "language": "python",
   "name": "python3"
  },
  "language_info": {
   "codemirror_mode": {
    "name": "ipython",
    "version": 3
   },
   "file_extension": ".py",
   "mimetype": "text/x-python",
   "name": "python",
   "nbconvert_exporter": "python",
   "pygments_lexer": "ipython3",
   "version": "3.6.9"
  }
 },
 "nbformat": 4,
 "nbformat_minor": 4
}
