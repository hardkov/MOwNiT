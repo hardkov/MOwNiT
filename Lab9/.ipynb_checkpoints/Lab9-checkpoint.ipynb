{
 "cells": [
  {
   "cell_type": "markdown",
   "metadata": {},
   "source": [
    "# Laboratorium 9 Faktoryzacja QR\n",
    "### Autor: Krzysztof Hardek"
   ]
  },
  {
   "cell_type": "code",
   "execution_count": 244,
   "metadata": {},
   "outputs": [
    {
     "name": "stdout",
     "output_type": "stream",
     "text": [
      "1.18.4\n"
     ]
    }
   ],
   "source": [
    "import numpy as np # 1.18.4\n",
    "from matplotlib import pyplot as plt\n",
    "\n",
    "print(np.__version__)"
   ]
  },
  {
   "cell_type": "markdown",
   "metadata": {},
   "source": [
    "## Zad1 Faktoryzacja QR metodą Grama-Schmidta\n",
    "### Funkcje pomocnicze"
   ]
  },
  {
   "cell_type": "code",
   "execution_count": 2,
   "metadata": {},
   "outputs": [],
   "source": [
    "def create_r_matrix(A, U):\n",
    "    n = len(A)\n",
    "    R = np.zeros((n, n))\n",
    "    \n",
    "    for i in range(n):\n",
    "        for j in range(i, n):\n",
    "            R[i][j] = np.dot(U[:,i], A[:,j])\n",
    "            \n",
    "    return R\n",
    "\n",
    "def gram_schmidt(A):\n",
    "    n = len(A)\n",
    "    U = np.zeros((n, n))\n",
    "    \n",
    "    for k in range(n):\n",
    "        if k == 0:\n",
    "            U[:,k] = A[:,k] / np.linalg.norm(A[:,k])\n",
    "        \n",
    "        else:\n",
    "            U[:,k] = A[:,k]\n",
    "            \n",
    "            sum = np.zeros(n)\n",
    "            \n",
    "            for i in range(k):\n",
    "                sum += U[:,i] * np.dot(U[:,i], A[:,k])      \n",
    "                \n",
    "            U[:,k] -= sum\n",
    "            U[:,k] /= np.linalg.norm(U[:,k])\n",
    "        \n",
    "    Q = U\n",
    "    R = create_r_matrix(A, U)\n",
    "    \n",
    "    return Q, R"
   ]
  },
  {
   "cell_type": "markdown",
   "metadata": {},
   "source": [
    "Test wstępny"
   ]
  },
  {
   "cell_type": "code",
   "execution_count": 3,
   "metadata": {},
   "outputs": [
    {
     "name": "stdout",
     "output_type": "stream",
     "text": [
      "[[-2.67261242e-01 -3.58568583e-01 -8.94427191e-01]\n",
      " [-5.34522484e-01 -7.17137166e-01  4.47213595e-01]\n",
      " [-8.01783726e-01  5.97614305e-01 -2.22044605e-16]]\n",
      "[[ 0.26726124  0.35856858  0.89442719]\n",
      " [ 0.53452248  0.71713717 -0.4472136 ]\n",
      " [ 0.80178373 -0.5976143   0.        ]]\n",
      "[[-3.74165739 -2.67261242 -5.34522484]\n",
      " [ 0.         -3.58568583  1.19522861]\n",
      " [ 0.          0.         -2.23606798]]\n",
      "[[ 3.74165739  2.67261242  5.34522484]\n",
      " [ 0.          3.58568583 -1.19522861]\n",
      " [ 0.          0.          2.23606798]]\n"
     ]
    }
   ],
   "source": [
    "A = np.array([[1, 2 ,3],\n",
    "            [2, 4, 1],\n",
    "            [3, 0, 5]])\n",
    "Q_lib, R_lib = np.linalg.qr(A)\n",
    "Q_own, R_own = gram_schmidt(A)\n",
    "\n",
    "print(Q_lib)\n",
    "print(Q_own)\n",
    "\n",
    "print(R_lib)\n",
    "print(R_own)"
   ]
  },
  {
   "cell_type": "markdown",
   "metadata": {},
   "source": [
    "Jak widać funkcje zwracają te same macierze modułu wartości wewnątrz, ale znaki są inne"
   ]
  },
  {
   "cell_type": "markdown",
   "metadata": {},
   "source": [
    "### Testowanie z użyciem losowych macierzy oraz funkcji bibliotecznej\n",
    "Losuje macierze o rozmiarach od (3,3) do (18,18) i dokonuje rozkładu za pomocą swojej implemtacji oraz bibliotecznej. Używam normy forbeno"
   ]
  },
  {
   "cell_type": "code",
   "execution_count": 4,
   "metadata": {},
   "outputs": [
    {
     "name": "stdout",
     "output_type": "stream",
     "text": [
      "[[-5.55111512e-17  1.52737341e+00  1.11022302e-16]\n",
      " [-5.55111512e-17 -1.28461390e+00 -2.22044605e-16]\n",
      " [-1.11022302e-16  1.29990800e-01 -5.55111512e-17]]\n",
      "[[ 0.00000000e+00 -1.11022302e-16 -5.55111512e-17]\n",
      " [ 0.00000000e+00  5.68268250e-01  3.38370787e-01]\n",
      " [ 0.00000000e+00  0.00000000e+00  0.00000000e+00]]\n",
      "[[-1.66533454e-16  2.77555756e-17 -5.55111512e-17  6.66133815e-16\n",
      "   1.70349845e-15 -4.01053440e-01]\n",
      " [-2.77555756e-17  1.11022302e-16 -2.77555756e-16 -2.77555756e-16\n",
      "  -3.88578059e-16 -5.05689248e-01]\n",
      " [-1.11022302e-16  1.66533454e-16  3.33066907e-16  3.40005801e-16\n",
      "   5.27355937e-16  6.16079394e-01]\n",
      " [-1.11022302e-16  1.11022302e-16  1.94289029e-16  4.99600361e-16\n",
      "  -1.11022302e-16 -1.97323762e-01]\n",
      " [-1.11022302e-16  1.11022302e-16  9.02056208e-17  1.66533454e-16\n",
      "  -5.55111512e-16 -1.25255041e+00]\n",
      " [-5.55111512e-17  0.00000000e+00 -2.77555756e-16  6.93889390e-17\n",
      "  -4.99600361e-16  1.26335328e+00]]\n",
      "[[ 0.00000000e+00 -2.22044605e-16 -2.22044605e-16 -4.44089210e-16\n",
      "   0.00000000e+00 -2.22044605e-16]\n",
      " [ 0.00000000e+00  4.44089210e-16  2.77555756e-16  3.05311332e-16\n",
      "   2.49800181e-16  4.44089210e-16]\n",
      " [ 0.00000000e+00  0.00000000e+00 -2.22044605e-16  2.77555756e-16\n",
      "   2.77555756e-17  3.05311332e-16]\n",
      " [ 0.00000000e+00  0.00000000e+00  0.00000000e+00  7.77156117e-16\n",
      "   6.66133815e-16  1.05471187e-15]\n",
      " [ 0.00000000e+00  0.00000000e+00  0.00000000e+00  0.00000000e+00\n",
      "   1.27675648e-15  9.43689571e-16]\n",
      " [ 0.00000000e+00  0.00000000e+00  0.00000000e+00  0.00000000e+00\n",
      "   0.00000000e+00  1.55707512e-02]]\n",
      "[[ 1.59594560e-16  5.55111512e-16  5.55111512e-17 -2.03459046e-01\n",
      "   8.38394668e-01  1.11022302e-16  4.45630764e-01  3.33066907e-16\n",
      "  -4.98010766e-01]\n",
      " [ 1.38777878e-17  5.55111512e-17 -1.66533454e-16 -6.29621158e-01\n",
      "  -2.11589679e-01 -3.79904441e-16 -1.58620522e+00  0.00000000e+00\n",
      "   6.22776787e-01]\n",
      " [ 2.77555756e-17  8.32667268e-17  0.00000000e+00  1.02656759e+00\n",
      "   4.26314884e-02 -3.33066907e-16  6.34990416e-02 -1.11022302e-16\n",
      "   4.16682956e-01]\n",
      " [ 1.11022302e-16  1.11022302e-16  2.77555756e-16 -3.02172716e-01\n",
      "   5.22920259e-01 -2.08166817e-16 -7.14255065e-02  4.44089210e-16\n",
      "   4.92646698e-01]\n",
      " [ 1.11022302e-16  1.66533454e-16  3.33066907e-16 -9.70411875e-01\n",
      "   1.14199104e-01 -6.80011603e-16  1.71031510e-03 -2.22044605e-16\n",
      "  -1.13922666e+00]\n",
      " [ 2.77555756e-17  5.55111512e-17  5.55111512e-17  5.93775365e-01\n",
      "   6.29776314e-01 -4.44089210e-16 -1.93007088e-02 -9.08995101e-16\n",
      "   7.52914639e-02]\n",
      " [ 1.11022302e-16  1.66533454e-16 -2.01227923e-16  7.03198795e-01\n",
      "  -1.23351031e+00  4.99600361e-16 -1.93192875e-01 -5.55111512e-17\n",
      "  -7.05704969e-01]\n",
      " [ 5.55111512e-17  1.66533454e-16  1.11022302e-16  4.93316505e-01\n",
      "   8.82637648e-01  5.82867088e-16 -4.16876328e-01  8.32667268e-16\n",
      "   4.38124733e-02]\n",
      " [ 5.55111512e-17  1.11022302e-16 -5.20417043e-17 -6.20414492e-01\n",
      "  -5.16531326e-01 -2.49800181e-16  1.03186611e+00  1.66533454e-16\n",
      "   1.06974935e+00]]\n",
      "[[-2.22044605e-16  2.22044605e-16  8.88178420e-16  8.88178420e-16\n",
      "   8.88178420e-16  4.44089210e-16  4.44089210e-16  3.33066907e-16\n",
      "   0.00000000e+00]\n",
      " [ 0.00000000e+00  6.66133815e-16  1.11022302e-15  6.10622664e-16\n",
      "   9.99200722e-16  5.96744876e-16  6.66133815e-16  5.55111512e-16\n",
      "   6.66133815e-16]\n",
      " [ 0.00000000e+00  0.00000000e+00  0.00000000e+00  3.33066907e-16\n",
      "   2.77555756e-16  4.99600361e-16  3.33066907e-16  4.16333634e-16\n",
      "   1.11022302e-16]\n",
      " [ 0.00000000e+00  0.00000000e+00  0.00000000e+00  1.18133268e+00\n",
      "   4.38162010e-01 -5.02669844e-01 -1.08562535e+00  1.31917219e-01\n",
      "  -2.54783958e-01]\n",
      " [ 0.00000000e+00  0.00000000e+00  0.00000000e+00  0.00000000e+00\n",
      "   1.30787172e+00  1.20839855e+00  8.29867005e-01  1.20175901e+00\n",
      "   5.49661277e-01]\n",
      " [ 0.00000000e+00  0.00000000e+00  0.00000000e+00  0.00000000e+00\n",
      "   0.00000000e+00 -9.99200722e-16 -8.32667268e-16 -5.55111512e-17\n",
      "  -3.88578059e-16]\n",
      " [ 0.00000000e+00  0.00000000e+00  0.00000000e+00  0.00000000e+00\n",
      "   0.00000000e+00  0.00000000e+00  8.20982466e-01  3.03270401e-01\n",
      "   8.31647833e-01]\n",
      " [ 0.00000000e+00  0.00000000e+00  0.00000000e+00  0.00000000e+00\n",
      "   0.00000000e+00  0.00000000e+00  0.00000000e+00  6.66133815e-16\n",
      "   2.22044605e-16]\n",
      " [ 0.00000000e+00  0.00000000e+00  0.00000000e+00  0.00000000e+00\n",
      "   0.00000000e+00  0.00000000e+00  0.00000000e+00  0.00000000e+00\n",
      "   7.57908234e-01]]\n",
      "[[ 1.11022302e-16  5.55111512e-17 -1.11022302e-16 -2.22044605e-16\n",
      "  -8.32667268e-16 -2.22044605e-16 -3.14908643e-01 -3.29657525e-01\n",
      "   6.48590917e-01  2.13755805e-01 -2.77555756e-17  1.11022302e-16]\n",
      " [ 1.38777878e-17 -2.77555756e-17  1.11022302e-16  0.00000000e+00\n",
      "   3.33066907e-16  2.22044605e-16 -9.98714250e-01 -3.97538838e-01\n",
      "  -7.10277009e-01  6.81234772e-01 -2.77555756e-16  5.41233725e-16]\n",
      " [ 0.00000000e+00 -4.16333634e-17  2.77555756e-17 -1.66533454e-16\n",
      "   1.94289029e-16  3.05311332e-16  6.72203043e-01 -5.34346199e-01\n",
      "  -2.50323956e-01 -1.08260799e+00  0.00000000e+00  1.69309011e-15]\n",
      " [ 2.77555756e-17 -2.77555756e-17 -1.11022302e-16 -5.55111512e-17\n",
      "   2.22044605e-16  1.38777878e-16  4.74536221e-01  2.32528157e-01\n",
      "   1.22762816e+00  5.36551786e-01  1.37390099e-15 -1.90125693e-15]\n",
      " [ 2.77555756e-17  0.00000000e+00  9.71445147e-17  8.32667268e-17\n",
      "   1.66533454e-16 -1.66533454e-16 -4.15154415e-01  4.35076507e-01\n",
      "   7.10712485e-01 -5.94696043e-01  7.77156117e-16  1.66533454e-16]\n",
      " [ 5.55111512e-17 -5.55111512e-17  5.55111512e-17 -8.32667268e-17\n",
      "   9.71445147e-17  5.55111512e-17  5.47406686e-01 -9.39382575e-01\n",
      "  -9.47255292e-02  5.32937229e-01 -4.99600361e-16 -1.30451205e-15]\n",
      " [ 5.55111512e-17 -8.32667268e-17 -1.11022302e-16 -3.33066907e-16\n",
      "   1.52655666e-16  5.18682319e-16 -7.25722265e-01  5.51027920e-01\n",
      "  -4.52770009e-01 -4.36527822e-01  2.22044605e-16  1.83186799e-15]\n",
      " [ 1.11022302e-16 -2.49800181e-16  5.55111512e-17 -1.21430643e-17\n",
      "  -1.11022302e-16  2.77555756e-16 -7.11742635e-01 -4.25811906e-02\n",
      "   3.17561795e-01  2.52600677e-01  1.88737914e-15  1.27675648e-15]\n",
      " [ 2.77555756e-17 -5.20417043e-17  1.38777878e-17  0.00000000e+00\n",
      "   5.55111512e-17 -8.32667268e-17  4.07852971e-01  1.27282239e+00\n",
      "  -2.24901791e-01  6.83393319e-01 -9.78384040e-16 -5.55111512e-17]\n",
      " [ 5.55111512e-17 -1.11022302e-16 -1.35308431e-16 -3.33066907e-16\n",
      "  -6.38378239e-16  0.00000000e+00  3.95093796e-01  3.91196732e-01\n",
      "  -5.38791270e-01 -9.65508649e-02 -2.66453526e-15 -1.61676228e-15]\n",
      " [ 1.38777878e-17  1.11022302e-16  1.11022302e-16  3.33066907e-16\n",
      "  -1.11022302e-16  2.77555756e-17  1.78415122e-01  4.85810010e-01\n",
      "  -1.59234962e-01 -4.92125313e-01  6.10622664e-16  1.24900090e-15]\n",
      " [ 2.77555756e-17 -5.55111512e-17  8.32667268e-17  5.55111512e-17\n",
      "   5.55111512e-17  2.22044605e-16  6.05663334e-01  8.59906314e-02\n",
      "  -5.64747253e-01  6.47854018e-01  4.16333634e-16  4.44089210e-16]]\n",
      "[[ 0.00000000e+00  2.22044605e-16  2.22044605e-16  6.66133815e-16\n",
      "   4.44089210e-16  0.00000000e+00  0.00000000e+00  2.22044605e-16\n",
      "  -2.22044605e-16  2.22044605e-16 -2.22044605e-16  2.22044605e-16]\n",
      " [ 0.00000000e+00 -4.44089210e-16 -2.22044605e-16 -5.55111512e-16\n",
      "  -3.33066907e-16 -2.77555756e-16 -3.33066907e-16 -3.33066907e-16\n",
      "  -3.88578059e-16 -3.33066907e-16 -2.22044605e-16 -2.77555756e-16]\n",
      " [ 0.00000000e+00  0.00000000e+00  2.22044605e-16 -1.38777878e-17\n",
      "   0.00000000e+00 -1.11022302e-16 -1.11022302e-16 -2.22044605e-16\n",
      "  -2.77555756e-16  1.11022302e-16  5.55111512e-17 -1.66533454e-16]\n",
      " [ 0.00000000e+00  0.00000000e+00  0.00000000e+00 -4.44089210e-16\n",
      "  -8.88178420e-16 -5.55111512e-16 -6.66133815e-16 -4.44089210e-16\n",
      "  -3.88578059e-16 -3.05311332e-16  1.66533454e-16 -7.77156117e-16]\n",
      " [ 0.00000000e+00  0.00000000e+00  0.00000000e+00  0.00000000e+00\n",
      "   1.11022302e-16  3.33066907e-16  5.55111512e-17 -1.66533454e-16\n",
      "  -8.88178420e-16  0.00000000e+00 -1.11022302e-16  0.00000000e+00]\n",
      " [ 0.00000000e+00  0.00000000e+00  0.00000000e+00  0.00000000e+00\n",
      "   0.00000000e+00  7.77156117e-16  7.77156117e-16  4.44089210e-16\n",
      "   3.88578059e-16  3.60822483e-16  7.77156117e-16  7.21644966e-16]\n",
      " [ 0.00000000e+00  0.00000000e+00  0.00000000e+00  0.00000000e+00\n",
      "   0.00000000e+00  0.00000000e+00  1.96099991e+00  1.76260963e-01\n",
      "   3.04194071e-02  1.10314799e+00  1.86425701e-01 -6.37387700e-01]\n",
      " [ 0.00000000e+00  0.00000000e+00  0.00000000e+00  0.00000000e+00\n",
      "   0.00000000e+00  0.00000000e+00  0.00000000e+00  2.29735551e+00\n",
      "   7.19693445e-01 -5.87863464e-02 -1.24350296e-01  4.26573316e-01]\n",
      " [ 0.00000000e+00  0.00000000e+00  0.00000000e+00  0.00000000e+00\n",
      "   0.00000000e+00  0.00000000e+00  0.00000000e+00  0.00000000e+00\n",
      "   1.19365546e+00 -4.15945939e-01  1.21444944e-02 -2.02957569e-01]\n",
      " [ 0.00000000e+00  0.00000000e+00  0.00000000e+00  0.00000000e+00\n",
      "   0.00000000e+00  0.00000000e+00  0.00000000e+00  0.00000000e+00\n",
      "   0.00000000e+00  9.62681610e-01  8.61626486e-01  9.82614256e-02]\n",
      " [ 0.00000000e+00  0.00000000e+00  0.00000000e+00  0.00000000e+00\n",
      "   0.00000000e+00  0.00000000e+00  0.00000000e+00  0.00000000e+00\n",
      "   0.00000000e+00  0.00000000e+00  1.88737914e-15  2.22044605e-16]\n",
      " [ 0.00000000e+00  0.00000000e+00  0.00000000e+00  0.00000000e+00\n",
      "   0.00000000e+00  0.00000000e+00  0.00000000e+00  0.00000000e+00\n",
      "   0.00000000e+00  0.00000000e+00  0.00000000e+00  3.16413562e-15]]\n",
      "[[ 0.00000000e+00 -2.23779328e-16 -2.77555756e-16 -2.77555756e-17\n",
      "   9.86825207e-01  2.49800181e-16 -2.11636264e-16 -4.71844785e-16\n",
      "   3.11721306e-01  2.17685406e-01 -3.55440933e-01  2.77555756e-17\n",
      "  -3.33066907e-16  2.87100442e-01 -5.14616859e-01]\n",
      " [ 1.38777878e-17  5.55111512e-17 -5.55111512e-17 -5.55111512e-17\n",
      "   7.06138626e-01 -3.60822483e-16 -4.16333634e-17 -1.66533454e-16\n",
      "   1.97095073e-01 -4.81770687e-01  4.21743043e-01  5.55111512e-16\n",
      "   5.55111512e-17 -1.69346587e-01 -1.21513076e+00]\n",
      " [ 0.00000000e+00 -2.77555756e-17 -8.32667268e-17  3.33066907e-16\n",
      "   6.55405520e-02 -1.24900090e-16  2.77555756e-16  1.94289029e-16\n",
      "   6.98853536e-01 -9.40161750e-02 -5.85144337e-01  3.88578059e-16\n",
      "  -6.10622664e-16 -2.03502257e-01  6.27195278e-01]\n",
      " [-5.55111512e-17  5.55111512e-17 -2.22044605e-16 -1.66533454e-16\n",
      "  -1.56104549e-01 -1.66533454e-16 -3.88578059e-16 -1.11022302e-16\n",
      "   2.39671617e-01  2.82758513e-01 -2.30311865e-01 -2.77555756e-16\n",
      "  -2.77555756e-16  7.67303491e-01  5.96092266e-01]\n",
      " [ 0.00000000e+00  5.55111512e-17  5.55111512e-17  3.05311332e-16\n",
      "  -7.95753879e-02  2.49800181e-16  0.00000000e+00  3.33066907e-16\n",
      "  -2.96461310e-01  8.24354038e-02 -3.42469950e-01 -4.44089210e-16\n",
      "   2.49800181e-16  7.58663172e-01 -6.85951969e-02]\n",
      " [ 0.00000000e+00  0.00000000e+00 -5.55111512e-17  1.38777878e-16\n",
      "  -3.21328698e-01  3.88578059e-16  2.56739074e-16 -1.11022302e-16\n",
      "  -8.69365455e-01 -5.26401179e-01  7.26020239e-01  2.22044605e-16\n",
      "   7.21644966e-16 -4.52333108e-01  2.33531295e-01]\n",
      " [ 0.00000000e+00 -5.55111512e-17 -3.05311332e-16 -5.55111512e-17\n",
      "  -7.55590365e-01  1.38777878e-16 -3.05311332e-16  2.22044605e-16\n",
      "   3.23668807e-01 -8.11540027e-02  2.77058884e-01 -1.11022302e-16\n",
      "   8.32667268e-17 -1.81654667e-02 -1.94250678e-01]\n",
      " [ 0.00000000e+00 -2.77555756e-17  1.11022302e-16  3.88578059e-16\n",
      "   1.53772199e-01  5.55111512e-17  3.33066907e-16  5.58580959e-16\n",
      "   1.85600783e-01  8.18460081e-01  6.69511291e-01 -5.55111512e-17\n",
      "   1.14491749e-16  4.78470442e-01 -2.85309295e-01]\n",
      " [-5.55111512e-17  0.00000000e+00 -5.55111512e-17 -2.77555756e-16\n",
      "   1.00311804e-01 -1.66533454e-16 -2.77555756e-16 -2.08166817e-16\n",
      "  -1.06333870e+00  4.67147271e-01  1.22962875e-01 -1.63757896e-15\n",
      "   7.21644966e-16 -1.34860328e-01  1.21449612e-02]\n",
      " [ 0.00000000e+00  2.77555756e-17 -1.11022302e-16  0.00000000e+00\n",
      "  -2.44614504e-02  0.00000000e+00  0.00000000e+00  0.00000000e+00\n",
      "  -2.72904174e-01 -3.54304137e-01 -1.76639945e-01  1.13797860e-15\n",
      "  -8.32667268e-16  4.61245855e-01 -8.96297369e-02]\n",
      " [ 0.00000000e+00  0.00000000e+00  8.32667268e-17 -8.32667268e-17\n",
      "   4.38840949e-02 -1.11022302e-16  2.77555756e-17 -2.35922393e-16\n",
      "   1.92911848e-01  1.36734607e+00  3.01987117e-01 -1.38777878e-16\n",
      "  -4.57966998e-16 -6.50945966e-01  1.49484056e-01]\n",
      " [ 0.00000000e+00  0.00000000e+00 -3.12250226e-17  2.77555756e-17\n",
      "  -1.58929799e-01 -5.55111512e-17  1.66533454e-16 -1.11022302e-16\n",
      "  -3.32445919e-01 -1.76790523e-01 -8.94424094e-01  1.38777878e-16\n",
      "   1.16226473e-16  8.12459220e-02 -2.26624189e-01]\n",
      " [ 0.00000000e+00  2.77555756e-17 -1.59594560e-16 -1.04083409e-17\n",
      "  -4.33898649e-01  0.00000000e+00 -6.93889390e-17 -1.66533454e-16\n",
      "   9.46216041e-01 -4.90304792e-01  7.86941261e-01  1.66533454e-16\n",
      "   5.55111512e-17  1.46551533e-01  1.14857949e-01]\n",
      " [ 0.00000000e+00  5.55111512e-17 -1.66533454e-16  2.77555756e-16\n",
      "  -2.87998386e-01  3.33066907e-16  1.11022302e-16  1.80411242e-16\n",
      "   2.94926707e-01  1.63558602e-02 -7.06558553e-01  1.52655666e-16\n",
      "  -6.93889390e-16 -1.20334841e+00 -3.40037790e-01]\n",
      " [ 0.00000000e+00  0.00000000e+00 -5.55111512e-17  1.11022302e-16\n",
      "   1.21888333e+00 -1.31838984e-16  1.73472348e-16  1.66533454e-16\n",
      "  -6.49271427e-03 -4.31332250e-01  2.73761385e-01  2.91433544e-16\n",
      "   2.77555756e-16 -3.44233814e-01  1.05870056e+00]]\n",
      "[[ 4.44089210e-16 -2.22044605e-16  0.00000000e+00  0.00000000e+00\n",
      "   0.00000000e+00  0.00000000e+00  0.00000000e+00 -2.22044605e-16\n",
      "   0.00000000e+00 -2.22044605e-16  0.00000000e+00 -2.22044605e-16\n",
      "   2.22044605e-16  8.88178420e-16  2.22044605e-16]\n",
      " [ 0.00000000e+00  0.00000000e+00 -1.11022302e-16  4.85722573e-17\n",
      "  -1.11022302e-16  0.00000000e+00 -1.11022302e-16  2.77555756e-16\n",
      "  -2.77555756e-17 -1.66533454e-16  0.00000000e+00  1.11022302e-16\n",
      "  -2.77555756e-16 -1.11022302e-16 -3.33066907e-16]\n",
      " [ 0.00000000e+00  0.00000000e+00 -1.33226763e-15 -3.46944695e-16\n",
      "  -4.99600361e-16 -6.10622664e-16 -6.66133815e-16 -5.55111512e-16\n",
      "  -8.32667268e-16 -6.52256027e-16 -3.46944695e-16 -1.11022302e-15\n",
      "  -7.77156117e-16 -8.88178420e-16 -4.44089210e-16]\n",
      " [ 0.00000000e+00  0.00000000e+00  0.00000000e+00  4.44089210e-16\n",
      "   1.11022302e-16  2.22044605e-16 -5.55111512e-17  6.66133815e-16\n",
      "   2.77555756e-17  1.17961196e-16  2.22044605e-16 -5.55111512e-17\n",
      "   4.44089210e-16  3.33066907e-16  3.88578059e-16]\n",
      " [ 0.00000000e+00  0.00000000e+00  0.00000000e+00  0.00000000e+00\n",
      "   2.35395558e+00  4.12151235e-01 -3.50217257e-01  3.08436300e-01\n",
      "  -3.88954705e-02  1.17132216e+00  2.65876647e-01  1.20644661e+00\n",
      "   7.77340747e-01  1.11754902e+00  1.43940358e+00]\n",
      " [ 0.00000000e+00  0.00000000e+00  0.00000000e+00  0.00000000e+00\n",
      "   0.00000000e+00 -2.22044605e-16  2.22044605e-16  1.11022302e-16\n",
      "   1.66533454e-16  0.00000000e+00 -3.60822483e-16 -4.16333634e-16\n",
      "  -1.11022302e-16  1.38777878e-16 -1.38777878e-16]\n",
      " [ 0.00000000e+00  0.00000000e+00  0.00000000e+00  0.00000000e+00\n",
      "   0.00000000e+00  0.00000000e+00  0.00000000e+00 -1.11022302e-16\n",
      "  -4.44089210e-16 -1.94289029e-16  0.00000000e+00 -4.99600361e-16\n",
      "  -6.93889390e-17  0.00000000e+00  2.77555756e-16]\n",
      " [ 0.00000000e+00  0.00000000e+00  0.00000000e+00  0.00000000e+00\n",
      "   0.00000000e+00  0.00000000e+00  0.00000000e+00  4.44089210e-16\n",
      "  -2.77555756e-16  5.55111512e-17 -2.22044605e-16 -1.52655666e-16\n",
      "  -4.44089210e-16  4.44089210e-16 -2.22044605e-16]\n",
      " [ 0.00000000e+00  0.00000000e+00  0.00000000e+00  0.00000000e+00\n",
      "   0.00000000e+00  0.00000000e+00  0.00000000e+00  0.00000000e+00\n",
      "   1.19901066e+00 -2.04642852e-02  4.49992447e-01  7.56882657e-01\n",
      "   4.20043153e-01  7.84834667e-01 -1.23108683e-01]\n",
      " [ 0.00000000e+00  0.00000000e+00  0.00000000e+00  0.00000000e+00\n",
      "   0.00000000e+00  0.00000000e+00  0.00000000e+00  0.00000000e+00\n",
      "   0.00000000e+00  1.83107648e+00  7.49466609e-01 -7.33952603e-02\n",
      "   1.45688104e+00 -2.69528305e-01  7.73728510e-01]\n",
      " [ 0.00000000e+00  0.00000000e+00  0.00000000e+00  0.00000000e+00\n",
      "   0.00000000e+00  0.00000000e+00  0.00000000e+00  0.00000000e+00\n",
      "   0.00000000e+00  0.00000000e+00  1.32815577e+00 -2.78166147e-01\n",
      "   7.49896888e-01 -1.44887508e-01  1.15608339e-01]\n",
      " [ 0.00000000e+00  0.00000000e+00  0.00000000e+00  0.00000000e+00\n",
      "   0.00000000e+00  0.00000000e+00  0.00000000e+00  0.00000000e+00\n",
      "   0.00000000e+00  0.00000000e+00  0.00000000e+00  4.44089210e-16\n",
      "   1.11022302e-16  8.88178420e-16  1.94289029e-16]\n",
      " [ 0.00000000e+00  0.00000000e+00  0.00000000e+00  0.00000000e+00\n",
      "   0.00000000e+00  0.00000000e+00  0.00000000e+00  0.00000000e+00\n",
      "   0.00000000e+00  0.00000000e+00  0.00000000e+00  0.00000000e+00\n",
      "  -4.44089210e-16 -4.99600361e-16 -4.16333634e-17]\n",
      " [ 0.00000000e+00  0.00000000e+00  0.00000000e+00  0.00000000e+00\n",
      "   0.00000000e+00  0.00000000e+00  0.00000000e+00  0.00000000e+00\n",
      "   0.00000000e+00  0.00000000e+00  0.00000000e+00  0.00000000e+00\n",
      "   0.00000000e+00  1.05049155e+00 -2.43800741e-02]\n",
      " [ 0.00000000e+00  0.00000000e+00  0.00000000e+00  0.00000000e+00\n",
      "   0.00000000e+00  0.00000000e+00  0.00000000e+00  0.00000000e+00\n",
      "   0.00000000e+00  0.00000000e+00  0.00000000e+00  0.00000000e+00\n",
      "   0.00000000e+00  0.00000000e+00  6.27532249e-01]]\n"
     ]
    }
   ],
   "source": [
    "matrix_list = []\n",
    "\n",
    "for i in range(5):\n",
    "    matrix = np.random.rand((i+1)*3, (i+1)*3)\n",
    "    matrix_list.append(matrix)\n",
    "    \n",
    "for matrix in matrix_list:\n",
    "    Q_lib, R_lib = np.linalg.qr(matrix)\n",
    "    Q_own, R_own = gram_schmidt(matrix)\n",
    "    print(Q_lib+Q_own)  # plus sign bcs matrices content are opposite\n",
    "    print(R_lib+R_own)"
   ]
  },
  {
   "cell_type": "markdown",
   "metadata": {},
   "source": [
    "Jak widać różnice są bardzo niewielkie"
   ]
  },
  {
   "cell_type": "code",
   "execution_count": 5,
   "metadata": {},
   "outputs": [
    {
     "name": "stdout",
     "output_type": "stream",
     "text": [
      "[[0.36210511 0.07489853 0.00883738]\n",
      " [0.64759362 0.64522959 0.55075552]\n",
      " [0.23495466 0.060644   0.6436379 ]]\n"
     ]
    }
   ],
   "source": [
    "A = np.random.rand(3,3)\n",
    "print(A)"
   ]
  },
  {
   "cell_type": "code",
   "execution_count": 6,
   "metadata": {},
   "outputs": [
    {
     "name": "stdout",
     "output_type": "stream",
     "text": [
      "[[-0.21211087  0.41200298  0.8861504 ]\n",
      " [-0.85658604  0.35809234 -0.3715242 ]\n",
      " [-0.47039275 -0.83786838  0.27696072]]\n",
      "[1.228812   0.43935266 0.21442904]\n",
      "[[-0.60387354 -0.48592295 -0.63183513]\n",
      " [ 0.41931149  0.48047622 -0.77027299]\n",
      " [ 0.67787508 -0.73008321 -0.0863938 ]]\n",
      "[[1.228812   0.         0.        ]\n",
      " [0.         0.43935266 0.        ]\n",
      " [0.         0.         0.21442904]]\n"
     ]
    }
   ],
   "source": [
    "S, V, D = np.linalg.svd(A)\n",
    "print(S)\n",
    "print(V)\n",
    "print(D)\n",
    "print(np.diag(V))"
   ]
  },
  {
   "cell_type": "code",
   "execution_count": 7,
   "metadata": {},
   "outputs": [],
   "source": [
    "V[0] *= 10\n",
    "A = np.dot(np.dot(S, np.diag(V)), D)"
   ]
  },
  {
   "cell_type": "markdown",
   "metadata": {},
   "source": [
    "### Przygotowanie funkcji potrzebnych do wygenerowania macierzy oraz przeprowadzenia obliczen.\n",
    "Tworzę funkcje pomocnicze. Wykorzystuje fakt, że wskaźnik uwarunkowania może być wyliczony jako iloraz skrajnych wartości własnych.\n",
    "- **generate_certain_cond** generuje macierz o zadanym współczynniku uwarunkowania\n",
    "- **generate_matrices** generuje konkretną liczbę macierzy o różnych współczynnikach uwarunkowania\n",
    "- **error** wylicza błąd za pomocą normy podanej w treści zadania\n",
    "- **compute_error** wylicza błąd dla wszystkich macierzy w liście\n",
    "- **plot** przedstawia wyliczone informacje na wykresie"
   ]
  },
  {
   "cell_type": "code",
   "execution_count": 167,
   "metadata": {},
   "outputs": [],
   "source": [
    "def generate_certain_cond(cond, n):\n",
    "    matrix = np.random.rand(n, n)\n",
    "    S, V, D = np.linalg.svd(matrix)\n",
    "    \n",
    "    V[0] = cond * V[n-1]  # satisfying certain condtion number\n",
    "    \n",
    "    for i in range(1, n-1):\n",
    "        V[i] = np.random.uniform(V[n-1], V[0]) # fillin values in-between for decomposition to be valid\n",
    "\n",
    "    return np.dot(np.dot(S, np.diag(V)), D)\n",
    "\n",
    "def generate_matrices(matrix_count, n):\n",
    "    matrix_list = []\n",
    "    cond_list = np.linspace(1, 500, matrix_count)\n",
    "    \n",
    "    for cond in cond_list:\n",
    "        matrix = generate_certain_cond(cond, n)\n",
    "        matrix_list.append(matrix)\n",
    "        \n",
    "    return matrix_list, cond_list\n",
    "\n",
    "def error(Q):\n",
    "    I = np.identity(len(Q))\n",
    "    \n",
    "    return np.linalg.norm(I - np.dot(Q.transpose(), Q), ord='fro')\n",
    "\n",
    "def compute_error(matrices_list):\n",
    "    error_list = []\n",
    "    \n",
    "    for matrix in matrices_list:\n",
    "        Q, R = gram_schmidt(matrix)\n",
    "        error_list.append(error(Q))\n",
    "        \n",
    "    return error_list\n",
    "\n",
    "def plot(cond_list, error_list, color):\n",
    "    plt.xlabel(\"Condition number\")\n",
    "    plt.ylabel(\"Error\")\n",
    "    plt.plot(cond_list, error_list, color=color)\n",
    "    plt.show()"
   ]
  },
  {
   "cell_type": "markdown",
   "metadata": {},
   "source": [
    "### Właściwe testowanie"
   ]
  },
  {
   "cell_type": "code",
   "execution_count": 211,
   "metadata": {},
   "outputs": [
    {
     "data": {
      "image/png": "[encoded data removed]",
      "text/plain": [
       "<Figure size 432x288 with 1 Axes>"
      ]
     },
     "metadata": {
      "needs_background": "light"
     },
     "output_type": "display_data"
    }
   ],
   "source": [
    "matrix_list, cond_list = generate_matrices(30, 8)\n",
    "error_list = compute_error(matrix_list)\n",
    "plot(cond_list, error_list, color='b')"
   ]
  },
  {
   "cell_type": "markdown",
   "metadata": {},
   "source": [
    "### Wnioski\n",
    "Przyczyna uzyskanych rozbierzności leży w właściwościach współczynnika uwarunkowania. Determinuje on stopień przenoszania się błędu reprezentacji numerycznej danych wejściowych na wynik. Tak więc im większy jest ten współczynnik to przy zachowanym błędzie reprezentacji błąd wyniku będzie coraz większy. Na wykresie widać ogólną tendencje wzrostową. Pojawiające się dołki mogą być przejawem akuratnej reprezentacji danych. "
   ]
  },
  {
   "cell_type": "markdown",
   "metadata": {},
   "source": [
    "## Zad2 Rozwiązywanie układów równań metodą QR\n",
    "### Funkcje pomocnicze"
   ]
  },
  {
   "cell_type": "code",
   "execution_count": 229,
   "metadata": {},
   "outputs": [],
   "source": [
    "# from Lab7\n",
    "def backward(U, x):\n",
    "    y = []\n",
    "    for i in range(len(x)-1, -1, -1):\n",
    "        sum = x[i]\n",
    "        for j in range(len(x)-1, i, -1):\n",
    "            sum -= U[i][j] * y[j-i-1]\n",
    "        sum /= U[i][i]\n",
    "        \n",
    "        y.insert(0, sum)\n",
    "    \n",
    "    return y\n",
    "\n",
    "def solve_qr(A, y):\n",
    "    Q, R = np.linalg.qr(A)\n",
    "    \n",
    "    return backward(R, np.dot(Q.transpose(), y))\n",
    "\n",
    "def generate_coef_matrix(x):\n",
    "    n = len(x)\n",
    "    \n",
    "    coef_matrix = np.zeros((n, 3))\n",
    "    \n",
    "    for i in range(n):\n",
    "        for j in range(3):\n",
    "            coef_matrix[i][j] = x[i] ** j\n",
    "    \n",
    "    return coef_matrix"
   ]
  },
  {
   "cell_type": "markdown",
   "metadata": {},
   "source": [
    "### Dane"
   ]
  },
  {
   "cell_type": "code",
   "execution_count": 239,
   "metadata": {},
   "outputs": [],
   "source": [
    "# points\n",
    "x = [-5, -4, -3, -2, -1, 0, 1, 2, 3, 4, 5]\n",
    "y = [2, 7, 9, 12, 13, 14, 14, 13, 10, 8, 4]\n",
    "\n",
    "# model\n",
    "def f(x, a0, a1, a2):\n",
    "    return a0 + x * a1 + x**2 * a2"
   ]
  },
  {
   "cell_type": "markdown",
   "metadata": {},
   "source": [
    "### Przedstawienie rozwiązania"
   ]
  },
  {
   "cell_type": "code",
   "execution_count": 240,
   "metadata": {},
   "outputs": [
    {
     "data": {
      "image/png": "[encoded data removed]",
      "text/plain": [
       "<Figure size 432x288 with 1 Axes>"
      ]
     },
     "metadata": {
      "needs_background": "light"
     },
     "output_type": "display_data"
    }
   ],
   "source": [
    "# solving\n",
    "coef_matrix = generate_coef_matrix(x)\n",
    "solution = solve_qr(coef_matrix, y)\n",
    "\n",
    "\n",
    "# plotting\n",
    "x_points = np.linspace(-5, 5, 55)\n",
    "y_points = [f(x, solution[0], solution[1], solution[2]) for x in x_points]\n",
    "\n",
    "plt.xlabel(\"x\")\n",
    "plt.ylabel(\"y\")\n",
    "plt.scatter(x, y)\n",
    "plt.plot(x_points, y_points, color='c')\n",
    "plt.show()"
   ]
  },
  {
   "cell_type": "markdown",
   "metadata": {},
   "source": [
    "### Wnioski\n",
    "Rozkład QR, dzięki temu, że Q jest orgogonalna oraz R trójkątna górna, umożliwa rozbicie równania na prostsze, które można rozwiązać za pomoca backward-substitution. Przekształcenie równania: <br>\n",
    "$ Ax = y $ $\\;\\;\\;\\;\\;\\;$ *Rozkladam macierz A* <br>\n",
    "$ QRx = y $ $\\;\\;\\;\\;\\;\\;$ *Mnożę przez odwrotnośc Q* <br>\n",
    "$ Rx = Q^{-1}y $ $\\;\\;\\;\\;\\;\\;$ *Korzystam z ortogonalości Q* <br>\n",
    "$ Rx = Q^{T}y $ $\\;\\;\\;\\;\\;\\;$ *Otrzymalem uproszczony układ, rozwiązywalny za pomocą backward-substitution* <br>"
   ]
  }
 ],
 "metadata": {
  "kernelspec": {
   "display_name": "Python 3",
   "language": "python",
   "name": "python3"
  },
  "language_info": {
   "codemirror_mode": {
    "name": "ipython",
    "version": 3
   },
   "file_extension": ".py",
   "mimetype": "text/x-python",
   "name": "python",
   "nbconvert_exporter": "python",
   "pygments_lexer": "ipython3",
   "version": "3.8.3"
  }
 },
 "nbformat": 4,
 "nbformat_minor": 4
}
